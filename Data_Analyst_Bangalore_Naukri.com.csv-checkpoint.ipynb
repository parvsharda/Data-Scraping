{
 "cells": [
  {
   "cell_type": "code",
   "execution_count": 1,
   "metadata": {},
   "outputs": [],
   "source": [
    "import selenium\n",
    "import pandas as pd\n",
    "from selenium import webdriver\n"
   ]
  },
  {
   "cell_type": "code",
   "execution_count": 2,
   "metadata": {},
   "outputs": [],
   "source": [
    "driver= webdriver.Chrome('chromedriver.exe')\n"
   ]
  },
  {
   "cell_type": "code",
   "execution_count": 3,
   "metadata": {},
   "outputs": [],
   "source": [
    "url='https://www.naukri.com/'\n",
    "driver.get(url)"
   ]
  },
  {
   "cell_type": "code",
   "execution_count": 4,
   "metadata": {},
   "outputs": [
    {
     "data": {
      "text/plain": [
       "<selenium.webdriver.remote.webelement.WebElement (session=\"6fe98f2e20f839b3380891c0d98e2036\", element=\"eb4960bd-139a-4f14-be63-9bdff6388180\")>"
      ]
     },
     "execution_count": 4,
     "metadata": {},
     "output_type": "execute_result"
    }
   ],
   "source": [
    "search_job= driver.find_element_by_id('qsb-keyword-sugg')\n",
    "search_job"
   ]
  },
  {
   "cell_type": "code",
   "execution_count": 5,
   "metadata": {},
   "outputs": [],
   "source": [
    "#write on search bar\n",
    "search_job.send_keys('Data Analyst')"
   ]
  },
  {
   "cell_type": "code",
   "execution_count": 6,
   "metadata": {},
   "outputs": [],
   "source": [
    "#finding element for job location bar\n",
    "search_loc= driver.find_element_by_id('qsb-location-sugg')\n",
    "search_loc.send_keys('Bangalore')"
   ]
  },
  {
   "cell_type": "code",
   "execution_count": 7,
   "metadata": {},
   "outputs": [],
   "source": [
    "#write on search bar\n",
    "search_job.send_keys('Data Analyst')"
   ]
  },
  {
   "cell_type": "code",
   "execution_count": 8,
   "metadata": {},
   "outputs": [],
   "source": [
    "#finding element for job location bar\n",
    "search_loc= driver.find_element_by_id('qsb-location-sugg')\n",
    "search_loc.send_keys('Bangalore')"
   ]
  },
  {
   "cell_type": "code",
   "execution_count": 9,
   "metadata": {},
   "outputs": [],
   "source": [
    "# do click using xpath function\n",
    "\n",
    "search_btn= driver.find_element_by_xpath(\"//button[@class='btn']\")\n",
    "search_btn.click()"
   ]
  },
  {
   "cell_type": "code",
   "execution_count": 12,
   "metadata": {},
   "outputs": [
    {
     "data": {
      "text/plain": [
       "[<selenium.webdriver.remote.webelement.WebElement (session=\"6fe98f2e20f839b3380891c0d98e2036\", element=\"6dc68d33-2f0e-4000-a9a6-54cb230acf60\")>,\n",
       " <selenium.webdriver.remote.webelement.WebElement (session=\"6fe98f2e20f839b3380891c0d98e2036\", element=\"90767296-d327-4c7f-aa80-241e2565e817\")>,\n",
       " <selenium.webdriver.remote.webelement.WebElement (session=\"6fe98f2e20f839b3380891c0d98e2036\", element=\"41e385e7-68b4-4361-9b4b-13e7940a5ba9\")>,\n",
       " <selenium.webdriver.remote.webelement.WebElement (session=\"6fe98f2e20f839b3380891c0d98e2036\", element=\"31ec7023-1c96-4c5d-8c44-44df9e4254a7\")>,\n",
       " <selenium.webdriver.remote.webelement.WebElement (session=\"6fe98f2e20f839b3380891c0d98e2036\", element=\"e58e9bad-2688-4e12-baa4-a301ea011c60\")>,\n",
       " <selenium.webdriver.remote.webelement.WebElement (session=\"6fe98f2e20f839b3380891c0d98e2036\", element=\"7db3ec15-dcc3-4e67-9035-2bb7e3a306c4\")>,\n",
       " <selenium.webdriver.remote.webelement.WebElement (session=\"6fe98f2e20f839b3380891c0d98e2036\", element=\"4d9f62d1-8b00-4dd8-be09-46293bb6e1f1\")>,\n",
       " <selenium.webdriver.remote.webelement.WebElement (session=\"6fe98f2e20f839b3380891c0d98e2036\", element=\"d451953c-18de-45d0-b5c0-d19b3c5d12a4\")>,\n",
       " <selenium.webdriver.remote.webelement.WebElement (session=\"6fe98f2e20f839b3380891c0d98e2036\", element=\"eb99b92a-2bb0-4d57-98d6-8190ad08a46a\")>,\n",
       " <selenium.webdriver.remote.webelement.WebElement (session=\"6fe98f2e20f839b3380891c0d98e2036\", element=\"74a49256-eca6-4386-be93-047211d35029\")>,\n",
       " <selenium.webdriver.remote.webelement.WebElement (session=\"6fe98f2e20f839b3380891c0d98e2036\", element=\"41d3735b-5ed1-4dba-85df-c606d9a543cf\")>,\n",
       " <selenium.webdriver.remote.webelement.WebElement (session=\"6fe98f2e20f839b3380891c0d98e2036\", element=\"3219d672-7fb2-48a2-a2fc-aa4c9bb64295\")>,\n",
       " <selenium.webdriver.remote.webelement.WebElement (session=\"6fe98f2e20f839b3380891c0d98e2036\", element=\"1d3d3eb7-5b01-4958-9d97-a562f798ec88\")>,\n",
       " <selenium.webdriver.remote.webelement.WebElement (session=\"6fe98f2e20f839b3380891c0d98e2036\", element=\"9896e446-281a-4685-bd31-17d9bcc4a276\")>,\n",
       " <selenium.webdriver.remote.webelement.WebElement (session=\"6fe98f2e20f839b3380891c0d98e2036\", element=\"8992fdda-a21f-4fb9-95f1-1ec76b24866f\")>,\n",
       " <selenium.webdriver.remote.webelement.WebElement (session=\"6fe98f2e20f839b3380891c0d98e2036\", element=\"28ba9b28-5b32-499c-94aa-2b43827cf44a\")>,\n",
       " <selenium.webdriver.remote.webelement.WebElement (session=\"6fe98f2e20f839b3380891c0d98e2036\", element=\"43d58bc5-ca51-4fc2-a160-f7fbe2f8b892\")>,\n",
       " <selenium.webdriver.remote.webelement.WebElement (session=\"6fe98f2e20f839b3380891c0d98e2036\", element=\"79d99ae1-5c2e-4875-89fd-1342ae5ae78b\")>,\n",
       " <selenium.webdriver.remote.webelement.WebElement (session=\"6fe98f2e20f839b3380891c0d98e2036\", element=\"2ad1a734-a2bc-4048-a545-36ba5d52dd37\")>,\n",
       " <selenium.webdriver.remote.webelement.WebElement (session=\"6fe98f2e20f839b3380891c0d98e2036\", element=\"58f9f607-9a67-4e0c-a800-c87ef994fe38\")>]"
      ]
     },
     "execution_count": 12,
     "metadata": {},
     "output_type": "execute_result"
    }
   ],
   "source": [
    "# so extract all the tags having the job-title\n",
    "\n",
    "titles_tags=driver.find_elements_by_xpath(\"//a[@class='title fw500 ellipsis']\")\n",
    "titles_tags"
   ]
  },
  {
   "cell_type": "code",
   "execution_count": 13,
   "metadata": {},
   "outputs": [
    {
     "data": {
      "text/plain": [
       "['Data - BI Analyst',\n",
       " 'Consultant-Data Analyst -Bangalore',\n",
       " 'Data analyst - Google Analytics',\n",
       " 'Data Analyst',\n",
       " 'Data Analyst / Business Analyst -',\n",
       " 'Data Analyst',\n",
       " 'Data Analyst',\n",
       " 'Data Analyst',\n",
       " 'Data Analyst',\n",
       " 'Data Analyst - Informatica MDM',\n",
       " 'Data Analyst - Graphy',\n",
       " 'Data Analyst',\n",
       " 'Data Analyst',\n",
       " 'Assistant Vice President - MIS & Reporting ( Business Data Analyst)',\n",
       " 'Senior Analyst - Study Data',\n",
       " 'Analyst Data Science Analytics',\n",
       " 'Data Analytics Analyst',\n",
       " 'Business Data Analyst',\n",
       " 'Data Analyst/Data Engineer',\n",
       " 'Data Scientist / Data Analyst -Business Analyst']"
      ]
     },
     "execution_count": 13,
     "metadata": {},
     "output_type": "execute_result"
    }
   ],
   "source": [
    "# now the text of the job title is inside the tags extracted above\n",
    "# so we will run a loop to iterate over the tags extracted above and extract the text inside them\n",
    "\n",
    "job_titles=[]\n",
    "for i in titles_tags:\n",
    "    job_titles.append(i.text)\n",
    "job_titles"
   ]
  },
  {
   "cell_type": "code",
   "execution_count": 14,
   "metadata": {},
   "outputs": [
    {
     "data": {
      "text/plain": [
       "[<selenium.webdriver.remote.webelement.WebElement (session=\"6fe98f2e20f839b3380891c0d98e2036\", element=\"5ee77500-4b5f-461b-98f8-0381ec30afdf\")>,\n",
       " <selenium.webdriver.remote.webelement.WebElement (session=\"6fe98f2e20f839b3380891c0d98e2036\", element=\"5144ab6d-a613-4cb1-9e1b-3392abcfbb25\")>,\n",
       " <selenium.webdriver.remote.webelement.WebElement (session=\"6fe98f2e20f839b3380891c0d98e2036\", element=\"434ff0d9-d7a2-4120-bfc5-e3fcc03d3a16\")>,\n",
       " <selenium.webdriver.remote.webelement.WebElement (session=\"6fe98f2e20f839b3380891c0d98e2036\", element=\"96c071a0-44ad-4baa-9ee9-bac7042099ed\")>,\n",
       " <selenium.webdriver.remote.webelement.WebElement (session=\"6fe98f2e20f839b3380891c0d98e2036\", element=\"7a4507ae-3552-4b68-a869-8fe67b5dd51a\")>,\n",
       " <selenium.webdriver.remote.webelement.WebElement (session=\"6fe98f2e20f839b3380891c0d98e2036\", element=\"69d9a4c1-391a-4a36-b660-ef6a52d02c16\")>,\n",
       " <selenium.webdriver.remote.webelement.WebElement (session=\"6fe98f2e20f839b3380891c0d98e2036\", element=\"702f3e6b-87a4-45da-9a3e-b9ae2937445c\")>,\n",
       " <selenium.webdriver.remote.webelement.WebElement (session=\"6fe98f2e20f839b3380891c0d98e2036\", element=\"0e5946c5-d094-4627-8b6a-e76b0568bd36\")>,\n",
       " <selenium.webdriver.remote.webelement.WebElement (session=\"6fe98f2e20f839b3380891c0d98e2036\", element=\"0a1de80c-5666-4e18-a47d-7a1300404625\")>,\n",
       " <selenium.webdriver.remote.webelement.WebElement (session=\"6fe98f2e20f839b3380891c0d98e2036\", element=\"37bb45ba-5981-4a8d-862f-641037d2b294\")>,\n",
       " <selenium.webdriver.remote.webelement.WebElement (session=\"6fe98f2e20f839b3380891c0d98e2036\", element=\"5fbb7120-8f55-40b6-94fe-ec4cb47e2211\")>,\n",
       " <selenium.webdriver.remote.webelement.WebElement (session=\"6fe98f2e20f839b3380891c0d98e2036\", element=\"35259bf4-ed49-4455-88ee-2d4457ebc83a\")>,\n",
       " <selenium.webdriver.remote.webelement.WebElement (session=\"6fe98f2e20f839b3380891c0d98e2036\", element=\"f2260074-87b8-4a1b-9e69-44d0d8bbfdf4\")>,\n",
       " <selenium.webdriver.remote.webelement.WebElement (session=\"6fe98f2e20f839b3380891c0d98e2036\", element=\"f08742d4-0743-46a3-8d0e-f4cc90e9022d\")>,\n",
       " <selenium.webdriver.remote.webelement.WebElement (session=\"6fe98f2e20f839b3380891c0d98e2036\", element=\"0c9e0996-7f2c-4b69-83cf-665d4b78bab2\")>,\n",
       " <selenium.webdriver.remote.webelement.WebElement (session=\"6fe98f2e20f839b3380891c0d98e2036\", element=\"b85a1bab-36f7-4de7-a376-67fd8c9f0d8d\")>,\n",
       " <selenium.webdriver.remote.webelement.WebElement (session=\"6fe98f2e20f839b3380891c0d98e2036\", element=\"57a4bb13-ee47-470e-af3c-81fe4d96a150\")>,\n",
       " <selenium.webdriver.remote.webelement.WebElement (session=\"6fe98f2e20f839b3380891c0d98e2036\", element=\"638aee23-27eb-48d5-b19f-3751636ff681\")>,\n",
       " <selenium.webdriver.remote.webelement.WebElement (session=\"6fe98f2e20f839b3380891c0d98e2036\", element=\"1372f775-560e-4253-8b0e-ba59dd028298\")>,\n",
       " <selenium.webdriver.remote.webelement.WebElement (session=\"6fe98f2e20f839b3380891c0d98e2036\", element=\"fbf59c20-6672-4316-8137-2ac7dea95862\")>]"
      ]
     },
     "execution_count": 14,
     "metadata": {},
     "output_type": "execute_result"
    }
   ],
   "source": [
    "companies_tags=driver.find_elements_by_xpath(\"//a[@class='subTitle ellipsis fleft']\")\n",
    "companies_tags"
   ]
  },
  {
   "cell_type": "code",
   "execution_count": 15,
   "metadata": {},
   "outputs": [
    {
     "data": {
      "text/plain": [
       "['Palo Alto Networks.',\n",
       " 'Innovsource Services Private Limited',\n",
       " 'H and M Hennes and Mauritz (P) Ltd.',\n",
       " 'Bytech India Private Limited',\n",
       " 'LatentView Analytics Private Limited',\n",
       " 'Clarivate Analytics',\n",
       " 'Liventus, Inc.',\n",
       " 'Clarivate Analytics (TRCPL Projects Pvt Ltd.)',\n",
       " 'Kwalee ltd.',\n",
       " 'Shell India Markets Private Limited',\n",
       " 'Unacademy',\n",
       " 'SA Tech Software (I) Pvt. Ltd.',\n",
       " 'Concerto.ai',\n",
       " 'INTERTRUSTVITEOS CORPORATE AND FUND SERVICES PVT. LTD.',\n",
       " 'ExecBoardinAsia',\n",
       " 'Empower Retirement',\n",
       " 'Red Hat India Pvt Ltd',\n",
       " 'ALSTOM India Limited',\n",
       " 'CORDIS TECHNOLOGY INDIA PRIVATE LIMITED',\n",
       " 'Inflexion Analytix Private Limited']"
      ]
     },
     "execution_count": 15,
     "metadata": {},
     "output_type": "execute_result"
    }
   ],
   "source": [
    "company_names=[]\n",
    "for i in companies_tags:\n",
    "    company_names.append(i.text)\n",
    "company_names"
   ]
  },
  {
   "cell_type": "code",
   "execution_count": 16,
   "metadata": {},
   "outputs": [
    {
     "data": {
      "text/plain": [
       "[<selenium.webdriver.remote.webelement.WebElement (session=\"6fe98f2e20f839b3380891c0d98e2036\", element=\"e3fd6052-a4a8-4d4d-b63b-f749f06921ed\")>,\n",
       " <selenium.webdriver.remote.webelement.WebElement (session=\"6fe98f2e20f839b3380891c0d98e2036\", element=\"bb715b38-124e-4081-89da-5d7baaa8402b\")>,\n",
       " <selenium.webdriver.remote.webelement.WebElement (session=\"6fe98f2e20f839b3380891c0d98e2036\", element=\"aaec8a9b-d6e0-4d00-a761-7cacba3a806f\")>,\n",
       " <selenium.webdriver.remote.webelement.WebElement (session=\"6fe98f2e20f839b3380891c0d98e2036\", element=\"b5a41b52-d265-43d2-aac3-21d09248b68d\")>,\n",
       " <selenium.webdriver.remote.webelement.WebElement (session=\"6fe98f2e20f839b3380891c0d98e2036\", element=\"273ad1c9-85ec-43f2-9c76-c739e632c502\")>,\n",
       " <selenium.webdriver.remote.webelement.WebElement (session=\"6fe98f2e20f839b3380891c0d98e2036\", element=\"eb0c6da6-cfdc-4e66-99ff-450e3022ed44\")>,\n",
       " <selenium.webdriver.remote.webelement.WebElement (session=\"6fe98f2e20f839b3380891c0d98e2036\", element=\"ccaabbb3-738a-45d1-bab0-d3e9a18763d8\")>,\n",
       " <selenium.webdriver.remote.webelement.WebElement (session=\"6fe98f2e20f839b3380891c0d98e2036\", element=\"1a057177-9392-4835-b5e0-66699ee3891e\")>,\n",
       " <selenium.webdriver.remote.webelement.WebElement (session=\"6fe98f2e20f839b3380891c0d98e2036\", element=\"f6ecaaa4-07e8-4a02-9057-49e2bc4d3858\")>,\n",
       " <selenium.webdriver.remote.webelement.WebElement (session=\"6fe98f2e20f839b3380891c0d98e2036\", element=\"c1d4db1c-6f0d-49e7-822f-d3dc741a3b44\")>,\n",
       " <selenium.webdriver.remote.webelement.WebElement (session=\"6fe98f2e20f839b3380891c0d98e2036\", element=\"43b5eb6f-80d9-4ecb-9882-bdc1e86ed22f\")>,\n",
       " <selenium.webdriver.remote.webelement.WebElement (session=\"6fe98f2e20f839b3380891c0d98e2036\", element=\"c1ce4f4f-ba72-4a9d-a7d5-93c10117e76f\")>,\n",
       " <selenium.webdriver.remote.webelement.WebElement (session=\"6fe98f2e20f839b3380891c0d98e2036\", element=\"611030c3-2297-4c1e-aa28-943c1ce44bb3\")>,\n",
       " <selenium.webdriver.remote.webelement.WebElement (session=\"6fe98f2e20f839b3380891c0d98e2036\", element=\"1c816898-5cb8-4a12-9470-cc4ed755b0d7\")>,\n",
       " <selenium.webdriver.remote.webelement.WebElement (session=\"6fe98f2e20f839b3380891c0d98e2036\", element=\"bc4fc035-0ca9-4d07-a6d3-3d23a5ab1d09\")>,\n",
       " <selenium.webdriver.remote.webelement.WebElement (session=\"6fe98f2e20f839b3380891c0d98e2036\", element=\"033cc4ac-8474-4313-8b31-42523998dc5f\")>,\n",
       " <selenium.webdriver.remote.webelement.WebElement (session=\"6fe98f2e20f839b3380891c0d98e2036\", element=\"a7f3c7a3-eb00-40f8-be47-952be4bf16e6\")>,\n",
       " <selenium.webdriver.remote.webelement.WebElement (session=\"6fe98f2e20f839b3380891c0d98e2036\", element=\"30a4921d-dedf-4be8-a47a-eea337185481\")>,\n",
       " <selenium.webdriver.remote.webelement.WebElement (session=\"6fe98f2e20f839b3380891c0d98e2036\", element=\"117919bf-df52-45e2-81ba-8b690099a5a9\")>,\n",
       " <selenium.webdriver.remote.webelement.WebElement (session=\"6fe98f2e20f839b3380891c0d98e2036\", element=\"20e24dca-1034-46c6-932f-070ab398becd\")>]"
      ]
     },
     "execution_count": 16,
     "metadata": {},
     "output_type": "execute_result"
    }
   ],
   "source": [
    "job_exp=driver.find_elements_by_xpath(\"//li[@class='fleft grey-text br2 placeHolderLi experience']\")\n",
    "job_exp"
   ]
  },
  {
   "cell_type": "code",
   "execution_count": 17,
   "metadata": {},
   "outputs": [
    {
     "data": {
      "text/plain": [
       "['3-5 Yrs',\n",
       " '2-7 Yrs',\n",
       " '4-7 Yrs',\n",
       " '3-4 Yrs',\n",
       " '1-5 Yrs',\n",
       " '1-2 Yrs',\n",
       " '3-6 Yrs',\n",
       " '1-2 Yrs',\n",
       " '2-7 Yrs',\n",
       " '6-9 Yrs',\n",
       " '1-4 Yrs',\n",
       " '1-3 Yrs',\n",
       " '3-5 Yrs',\n",
       " '12-18 Yrs',\n",
       " '5-10 Yrs',\n",
       " '2-6 Yrs',\n",
       " '3-8 Yrs',\n",
       " '5-10 Yrs',\n",
       " '1-5 Yrs',\n",
       " '0-3 Yrs']"
      ]
     },
     "execution_count": 17,
     "metadata": {},
     "output_type": "execute_result"
    }
   ],
   "source": [
    "job_experience=[]\n",
    "for i in job_exp:\n",
    "    job_experience.append(i.text)\n",
    "job_experience"
   ]
  },
  {
   "cell_type": "code",
   "execution_count": 18,
   "metadata": {},
   "outputs": [
    {
     "data": {
      "text/plain": [
       "[<selenium.webdriver.remote.webelement.WebElement (session=\"6fe98f2e20f839b3380891c0d98e2036\", element=\"4d8d1729-65bd-4833-8145-b87329e04508\")>,\n",
       " <selenium.webdriver.remote.webelement.WebElement (session=\"6fe98f2e20f839b3380891c0d98e2036\", element=\"8c038591-568e-4547-a8bd-9edd116c67fc\")>,\n",
       " <selenium.webdriver.remote.webelement.WebElement (session=\"6fe98f2e20f839b3380891c0d98e2036\", element=\"4a8f8ab6-5632-488a-a444-ca6005fc6293\")>,\n",
       " <selenium.webdriver.remote.webelement.WebElement (session=\"6fe98f2e20f839b3380891c0d98e2036\", element=\"6cd2a873-676a-4038-88de-c2e398531346\")>,\n",
       " <selenium.webdriver.remote.webelement.WebElement (session=\"6fe98f2e20f839b3380891c0d98e2036\", element=\"48c2189b-715a-45b6-9380-4d0f7bac5665\")>,\n",
       " <selenium.webdriver.remote.webelement.WebElement (session=\"6fe98f2e20f839b3380891c0d98e2036\", element=\"78d22a10-389e-479f-ae8b-d459d65368dc\")>,\n",
       " <selenium.webdriver.remote.webelement.WebElement (session=\"6fe98f2e20f839b3380891c0d98e2036\", element=\"3bdf383e-21b9-42ed-a8aa-433681cbc7c8\")>,\n",
       " <selenium.webdriver.remote.webelement.WebElement (session=\"6fe98f2e20f839b3380891c0d98e2036\", element=\"f147290e-2fbd-4837-8c31-e3f5e786f0b4\")>,\n",
       " <selenium.webdriver.remote.webelement.WebElement (session=\"6fe98f2e20f839b3380891c0d98e2036\", element=\"e57deed8-decf-44d2-a6b1-9b4c6ce67d86\")>,\n",
       " <selenium.webdriver.remote.webelement.WebElement (session=\"6fe98f2e20f839b3380891c0d98e2036\", element=\"2f63ad6a-7882-4874-b5a7-a6079a2cdad7\")>,\n",
       " <selenium.webdriver.remote.webelement.WebElement (session=\"6fe98f2e20f839b3380891c0d98e2036\", element=\"45ebfa1f-75b6-4696-a6af-81af5825d291\")>,\n",
       " <selenium.webdriver.remote.webelement.WebElement (session=\"6fe98f2e20f839b3380891c0d98e2036\", element=\"90244300-1089-4fb0-9db6-6828036795ec\")>,\n",
       " <selenium.webdriver.remote.webelement.WebElement (session=\"6fe98f2e20f839b3380891c0d98e2036\", element=\"dd3e27e4-d234-4386-b4bf-9c038282fe35\")>,\n",
       " <selenium.webdriver.remote.webelement.WebElement (session=\"6fe98f2e20f839b3380891c0d98e2036\", element=\"4c6367e4-16ea-4b06-a13f-88ba0473c9df\")>,\n",
       " <selenium.webdriver.remote.webelement.WebElement (session=\"6fe98f2e20f839b3380891c0d98e2036\", element=\"3e1c63a5-e0e9-4650-90c3-fbcfe5e2d687\")>,\n",
       " <selenium.webdriver.remote.webelement.WebElement (session=\"6fe98f2e20f839b3380891c0d98e2036\", element=\"00185c33-43a3-411a-9008-97e05759e164\")>,\n",
       " <selenium.webdriver.remote.webelement.WebElement (session=\"6fe98f2e20f839b3380891c0d98e2036\", element=\"50869be5-bcf7-48f3-8ffc-fcb156c5e9a3\")>,\n",
       " <selenium.webdriver.remote.webelement.WebElement (session=\"6fe98f2e20f839b3380891c0d98e2036\", element=\"8155ad3a-9347-48df-b069-3027c2a23594\")>,\n",
       " <selenium.webdriver.remote.webelement.WebElement (session=\"6fe98f2e20f839b3380891c0d98e2036\", element=\"647d9489-243a-4d82-a47a-61e36a65754d\")>,\n",
       " <selenium.webdriver.remote.webelement.WebElement (session=\"6fe98f2e20f839b3380891c0d98e2036\", element=\"f2238383-e950-468e-b0c3-4bf57d294967\")>]"
      ]
     },
     "execution_count": 18,
     "metadata": {},
     "output_type": "execute_result"
    }
   ],
   "source": [
    "locations_tags=driver.find_elements_by_xpath(\"//li[@class='fleft grey-text br2 placeHolderLi location']\")\n",
    "locations_tags"
   ]
  },
  {
   "cell_type": "code",
   "execution_count": 19,
   "metadata": {},
   "outputs": [
    {
     "data": {
      "text/plain": [
       "['Bangalore/Bengaluru',\n",
       " 'Bangalore/Bengaluru',\n",
       " 'Bangalore/Bengaluru',\n",
       " 'Bangalore/Bengaluru, Delhi / NCR',\n",
       " 'Chennai, Bangalore/Bengaluru',\n",
       " 'Bangalore/Bengaluru',\n",
       " 'Bangalore/Bengaluru(2nd Phase JP Nagar)',\n",
       " 'Bangalore/Bengaluru',\n",
       " 'Bangalore/Bengaluru',\n",
       " 'Bangalore/Bengaluru',\n",
       " 'Bangalore/Bengaluru',\n",
       " 'Kolkata, Pune, Chennai, Bangalore/Bengaluru, Delhi / NCR, Mumbai (All Areas)',\n",
       " 'Bangalore/Bengaluru',\n",
       " 'Mumbai, Bangalore/Bengaluru',\n",
       " 'Bangalore/Bengaluru',\n",
       " 'Bangalore/Bengaluru, Remote',\n",
       " 'Bangalore/Bengaluru',\n",
       " 'Bangalore/Bengaluru',\n",
       " 'Bangalore/Bengaluru',\n",
       " 'Mumbai, Hyderabad/Secunderabad, Pune, Gurgaon/Gurugram, Chennai, Bangalore/Bengaluru']"
      ]
     },
     "execution_count": 19,
     "metadata": {},
     "output_type": "execute_result"
    }
   ],
   "source": [
    "locations_list=[]\n",
    "for i in locations_tags:\n",
    "    locations_list.append(i.text)\n",
    "locations_list"
   ]
  },
  {
   "cell_type": "code",
   "execution_count": 21,
   "metadata": {},
   "outputs": [
    {
     "data": {
      "text/html": [
       "<div>\n",
       "<style scoped>\n",
       "    .dataframe tbody tr th:only-of-type {\n",
       "        vertical-align: middle;\n",
       "    }\n",
       "\n",
       "    .dataframe tbody tr th {\n",
       "        vertical-align: top;\n",
       "    }\n",
       "\n",
       "    .dataframe thead th {\n",
       "        text-align: right;\n",
       "    }\n",
       "</style>\n",
       "<table border=\"1\" class=\"dataframe\">\n",
       "  <thead>\n",
       "    <tr style=\"text-align: right;\">\n",
       "      <th></th>\n",
       "      <th>Designation</th>\n",
       "      <th>company</th>\n",
       "      <th>job experience</th>\n",
       "      <th>location</th>\n",
       "    </tr>\n",
       "  </thead>\n",
       "  <tbody>\n",
       "    <tr>\n",
       "      <th>0</th>\n",
       "      <td>Data - BI Analyst</td>\n",
       "      <td>Palo Alto Networks.</td>\n",
       "      <td>3-5 Yrs</td>\n",
       "      <td>Bangalore/Bengaluru</td>\n",
       "    </tr>\n",
       "    <tr>\n",
       "      <th>1</th>\n",
       "      <td>Consultant-Data Analyst -Bangalore</td>\n",
       "      <td>Innovsource Services Private Limited</td>\n",
       "      <td>2-7 Yrs</td>\n",
       "      <td>Bangalore/Bengaluru</td>\n",
       "    </tr>\n",
       "    <tr>\n",
       "      <th>2</th>\n",
       "      <td>Data analyst - Google Analytics</td>\n",
       "      <td>H and M Hennes and Mauritz (P) Ltd.</td>\n",
       "      <td>4-7 Yrs</td>\n",
       "      <td>Bangalore/Bengaluru</td>\n",
       "    </tr>\n",
       "    <tr>\n",
       "      <th>3</th>\n",
       "      <td>Data Analyst</td>\n",
       "      <td>Bytech India Private Limited</td>\n",
       "      <td>3-4 Yrs</td>\n",
       "      <td>Bangalore/Bengaluru, Delhi / NCR</td>\n",
       "    </tr>\n",
       "    <tr>\n",
       "      <th>4</th>\n",
       "      <td>Data Analyst / Business Analyst -</td>\n",
       "      <td>LatentView Analytics Private Limited</td>\n",
       "      <td>1-5 Yrs</td>\n",
       "      <td>Chennai, Bangalore/Bengaluru</td>\n",
       "    </tr>\n",
       "    <tr>\n",
       "      <th>5</th>\n",
       "      <td>Data Analyst</td>\n",
       "      <td>Clarivate Analytics</td>\n",
       "      <td>1-2 Yrs</td>\n",
       "      <td>Bangalore/Bengaluru</td>\n",
       "    </tr>\n",
       "    <tr>\n",
       "      <th>6</th>\n",
       "      <td>Data Analyst</td>\n",
       "      <td>Liventus, Inc.</td>\n",
       "      <td>3-6 Yrs</td>\n",
       "      <td>Bangalore/Bengaluru(2nd Phase JP Nagar)</td>\n",
       "    </tr>\n",
       "    <tr>\n",
       "      <th>7</th>\n",
       "      <td>Data Analyst</td>\n",
       "      <td>Clarivate Analytics (TRCPL Projects Pvt Ltd.)</td>\n",
       "      <td>1-2 Yrs</td>\n",
       "      <td>Bangalore/Bengaluru</td>\n",
       "    </tr>\n",
       "    <tr>\n",
       "      <th>8</th>\n",
       "      <td>Data Analyst</td>\n",
       "      <td>Kwalee ltd.</td>\n",
       "      <td>2-7 Yrs</td>\n",
       "      <td>Bangalore/Bengaluru</td>\n",
       "    </tr>\n",
       "    <tr>\n",
       "      <th>9</th>\n",
       "      <td>Data Analyst - Informatica MDM</td>\n",
       "      <td>Shell India Markets Private Limited</td>\n",
       "      <td>6-9 Yrs</td>\n",
       "      <td>Bangalore/Bengaluru</td>\n",
       "    </tr>\n",
       "  </tbody>\n",
       "</table>\n",
       "</div>"
      ],
      "text/plain": [
       "                          Designation  \\\n",
       "0                   Data - BI Analyst   \n",
       "1  Consultant-Data Analyst -Bangalore   \n",
       "2     Data analyst - Google Analytics   \n",
       "3                        Data Analyst   \n",
       "4   Data Analyst / Business Analyst -   \n",
       "5                        Data Analyst   \n",
       "6                        Data Analyst   \n",
       "7                        Data Analyst   \n",
       "8                        Data Analyst   \n",
       "9      Data Analyst - Informatica MDM   \n",
       "\n",
       "                                         company job experience  \\\n",
       "0                            Palo Alto Networks.        3-5 Yrs   \n",
       "1           Innovsource Services Private Limited        2-7 Yrs   \n",
       "2            H and M Hennes and Mauritz (P) Ltd.        4-7 Yrs   \n",
       "3                   Bytech India Private Limited        3-4 Yrs   \n",
       "4           LatentView Analytics Private Limited        1-5 Yrs   \n",
       "5                            Clarivate Analytics        1-2 Yrs   \n",
       "6                                 Liventus, Inc.        3-6 Yrs   \n",
       "7  Clarivate Analytics (TRCPL Projects Pvt Ltd.)        1-2 Yrs   \n",
       "8                                    Kwalee ltd.        2-7 Yrs   \n",
       "9            Shell India Markets Private Limited        6-9 Yrs   \n",
       "\n",
       "                                  location  \n",
       "0                      Bangalore/Bengaluru  \n",
       "1                      Bangalore/Bengaluru  \n",
       "2                      Bangalore/Bengaluru  \n",
       "3         Bangalore/Bengaluru, Delhi / NCR  \n",
       "4             Chennai, Bangalore/Bengaluru  \n",
       "5                      Bangalore/Bengaluru  \n",
       "6  Bangalore/Bengaluru(2nd Phase JP Nagar)  \n",
       "7                      Bangalore/Bengaluru  \n",
       "8                      Bangalore/Bengaluru  \n",
       "9                      Bangalore/Bengaluru  "
      ]
     },
     "execution_count": 21,
     "metadata": {},
     "output_type": "execute_result"
    }
   ],
   "source": [
    "import pandas as pd\n",
    "jobs=pd.DataFrame({})\n",
    "jobs['Designation']=job_titles[:10]\n",
    "jobs['company']=company_names[:10]\n",
    "jobs['job experience']=job_experience[:10]\n",
    "jobs['location']=locations_list[:10]\n",
    "jobs"
   ]
  },
  {
   "cell_type": "code",
   "execution_count": null,
   "metadata": {},
   "outputs": [],
   "source": []
  },
  {
   "cell_type": "code",
   "execution_count": null,
   "metadata": {},
   "outputs": [],
   "source": []
  }
 ],
 "metadata": {
  "kernelspec": {
   "display_name": "Python 3",
   "language": "python",
   "name": "python3"
  },
  "language_info": {
   "codemirror_mode": {
    "name": "ipython",
    "version": 3
   },
   "file_extension": ".py",
   "mimetype": "text/x-python",
   "name": "python",
   "nbconvert_exporter": "python",
   "pygments_lexer": "ipython3",
   "version": "3.8.3"
  }
 },
 "nbformat": 4,
 "nbformat_minor": 4
}
