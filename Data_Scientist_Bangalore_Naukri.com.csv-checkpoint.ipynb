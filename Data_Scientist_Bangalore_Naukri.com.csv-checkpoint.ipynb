{
 "cells": [
  {
   "cell_type": "code",
   "execution_count": 1,
   "metadata": {},
   "outputs": [],
   "source": [
    "import selenium\n",
    "import pandas as pd\n",
    "from selenium import webdriver"
   ]
  },
  {
   "cell_type": "code",
   "execution_count": 2,
   "metadata": {},
   "outputs": [],
   "source": [
    "driver= webdriver.Chrome('chromedriver.exe')"
   ]
  },
  {
   "cell_type": "code",
   "execution_count": 3,
   "metadata": {},
   "outputs": [],
   "source": [
    "url='https://www.naukri.com/'\n",
    "driver.get(url)"
   ]
  },
  {
   "cell_type": "code",
   "execution_count": 4,
   "metadata": {},
   "outputs": [
    {
     "data": {
      "text/plain": [
       "<selenium.webdriver.remote.webelement.WebElement (session=\"82e82d8cffd03713aefa0b24da66badc\", element=\"6205eccd-b65e-4edc-9b7e-533b4e01e55d\")>"
      ]
     },
     "execution_count": 4,
     "metadata": {},
     "output_type": "execute_result"
    }
   ],
   "source": [
    "search_job= driver.find_element_by_id('qsb-keyword-sugg')\n",
    "search_job"
   ]
  },
  {
   "cell_type": "code",
   "execution_count": 5,
   "metadata": {},
   "outputs": [],
   "source": [
    "#write on search bar\n",
    "search_job.send_keys('Data Scientist')"
   ]
  },
  {
   "cell_type": "code",
   "execution_count": 6,
   "metadata": {},
   "outputs": [],
   "source": [
    "#finding element for job location bar\n",
    "search_loc= driver.find_element_by_id('qsb-location-sugg')\n",
    "search_loc.send_keys('Bangalore')"
   ]
  },
  {
   "cell_type": "code",
   "execution_count": 7,
   "metadata": {},
   "outputs": [],
   "source": [
    "# do click using xpath function\n",
    "\n",
    "search_btn= driver.find_element_by_xpath(\"//button[@class='btn']\")\n",
    "search_btn.click()"
   ]
  },
  {
   "cell_type": "code",
   "execution_count": 17,
   "metadata": {},
   "outputs": [
    {
     "data": {
      "text/plain": [
       "[<selenium.webdriver.remote.webelement.WebElement (session=\"82e82d8cffd03713aefa0b24da66badc\", element=\"2d507ba9-fda6-48e7-bcaf-54056fff3a21\")>,\n",
       " <selenium.webdriver.remote.webelement.WebElement (session=\"82e82d8cffd03713aefa0b24da66badc\", element=\"3a3812c5-30ed-4ef2-814d-3d621e958ec7\")>,\n",
       " <selenium.webdriver.remote.webelement.WebElement (session=\"82e82d8cffd03713aefa0b24da66badc\", element=\"09768e6c-63b5-4f4a-a987-280c695c8622\")>,\n",
       " <selenium.webdriver.remote.webelement.WebElement (session=\"82e82d8cffd03713aefa0b24da66badc\", element=\"60d8f2be-3a7c-42bd-972f-10659ef36374\")>,\n",
       " <selenium.webdriver.remote.webelement.WebElement (session=\"82e82d8cffd03713aefa0b24da66badc\", element=\"18cc784c-27f4-4353-ad9e-305993288e9d\")>,\n",
       " <selenium.webdriver.remote.webelement.WebElement (session=\"82e82d8cffd03713aefa0b24da66badc\", element=\"35c60731-3e8a-40e6-84e8-325f1f169628\")>,\n",
       " <selenium.webdriver.remote.webelement.WebElement (session=\"82e82d8cffd03713aefa0b24da66badc\", element=\"19c32af4-1022-4534-81c9-fc01dcf2fa23\")>,\n",
       " <selenium.webdriver.remote.webelement.WebElement (session=\"82e82d8cffd03713aefa0b24da66badc\", element=\"76fce81a-48ad-4c1c-9993-2bbf4c2d2c94\")>,\n",
       " <selenium.webdriver.remote.webelement.WebElement (session=\"82e82d8cffd03713aefa0b24da66badc\", element=\"be6015b6-3e30-4263-9839-afb0e3a09144\")>,\n",
       " <selenium.webdriver.remote.webelement.WebElement (session=\"82e82d8cffd03713aefa0b24da66badc\", element=\"bf6b2695-9bb3-4fc6-a8f3-18d4054c49ca\")>,\n",
       " <selenium.webdriver.remote.webelement.WebElement (session=\"82e82d8cffd03713aefa0b24da66badc\", element=\"8fdecd2b-5314-4218-bc08-da1f09975b4b\")>,\n",
       " <selenium.webdriver.remote.webelement.WebElement (session=\"82e82d8cffd03713aefa0b24da66badc\", element=\"3ce6c29c-b305-4078-addd-1526a3d5acfc\")>,\n",
       " <selenium.webdriver.remote.webelement.WebElement (session=\"82e82d8cffd03713aefa0b24da66badc\", element=\"9ba1aaf6-a88f-4d27-a405-5e14c8528b47\")>,\n",
       " <selenium.webdriver.remote.webelement.WebElement (session=\"82e82d8cffd03713aefa0b24da66badc\", element=\"0de728ba-9da2-47b2-983c-6a8e12d0d448\")>,\n",
       " <selenium.webdriver.remote.webelement.WebElement (session=\"82e82d8cffd03713aefa0b24da66badc\", element=\"a46c44ce-ff6d-4fc4-b69e-5dd0643d3437\")>,\n",
       " <selenium.webdriver.remote.webelement.WebElement (session=\"82e82d8cffd03713aefa0b24da66badc\", element=\"28669708-cec6-4e83-aacc-6ce90eacc479\")>,\n",
       " <selenium.webdriver.remote.webelement.WebElement (session=\"82e82d8cffd03713aefa0b24da66badc\", element=\"4a04d044-746d-4b22-9931-f91c4b328d74\")>,\n",
       " <selenium.webdriver.remote.webelement.WebElement (session=\"82e82d8cffd03713aefa0b24da66badc\", element=\"7e2434f6-464f-44c9-b4a6-67d673eb2dd9\")>,\n",
       " <selenium.webdriver.remote.webelement.WebElement (session=\"82e82d8cffd03713aefa0b24da66badc\", element=\"ab93842e-83bc-42ff-a1b0-4654f279c7a8\")>,\n",
       " <selenium.webdriver.remote.webelement.WebElement (session=\"82e82d8cffd03713aefa0b24da66badc\", element=\"8ea64906-fb30-49df-a071-3d54b3975de0\")>]"
      ]
     },
     "execution_count": 17,
     "metadata": {},
     "output_type": "execute_result"
    }
   ],
   "source": [
    "# so extract all the tags having the job-title\n",
    "\n",
    "titles_tags=driver.find_elements_by_xpath(\"//a[@class='title fw500 ellipsis']\")\n",
    "titles_tags"
   ]
  },
  {
   "cell_type": "code",
   "execution_count": 18,
   "metadata": {},
   "outputs": [
    {
     "data": {
      "text/plain": [
       "['Data Scientist / Data Analyst -Business Analyst',\n",
       " 'Data Scientist',\n",
       " 'Big Data - Data Scientist',\n",
       " 'Specialist I - Data Scientist',\n",
       " 'Data Scientist',\n",
       " 'Data Scientist',\n",
       " 'SDE Lead Data Scientist-L3',\n",
       " 'Computational Design Lead Data Scientist-L3',\n",
       " 'Hiring For DATA Scientist - ON Contract Basis (3-6 Months)',\n",
       " 'Senior Data Scientist',\n",
       " 'Senior Data Scientist',\n",
       " 'Sr. Data Scientist',\n",
       " 'Senior Data Scientist',\n",
       " 'Senior Data Scientist',\n",
       " 'Senior Associate/Team Lead - Data Scientist Consulting',\n",
       " 'Senior Data Scientist',\n",
       " 'Sr Data Scientist, Payments',\n",
       " 'Hiring For Lead data Scientist For Bangalore location',\n",
       " 'Senior Data Scientist',\n",
       " 'we are hiring For the role of data engineer\\\\data scientist']"
      ]
     },
     "execution_count": 18,
     "metadata": {},
     "output_type": "execute_result"
    }
   ],
   "source": [
    "# now the text of the job title is inside the tags extracted above\n",
    "# so we will run a loop to iterate over the tags extracted above and extract the text inside them\n",
    "\n",
    "job_titles=[]\n",
    "for i in titles_tags:\n",
    "    job_titles.append(i.text)\n",
    "job_titles"
   ]
  },
  {
   "cell_type": "code",
   "execution_count": 19,
   "metadata": {},
   "outputs": [
    {
     "data": {
      "text/plain": [
       "[<selenium.webdriver.remote.webelement.WebElement (session=\"82e82d8cffd03713aefa0b24da66badc\", element=\"f25b669b-8237-48a3-872c-180964356c96\")>,\n",
       " <selenium.webdriver.remote.webelement.WebElement (session=\"82e82d8cffd03713aefa0b24da66badc\", element=\"014c2621-0036-4f63-bdbc-eda67ff8394b\")>,\n",
       " <selenium.webdriver.remote.webelement.WebElement (session=\"82e82d8cffd03713aefa0b24da66badc\", element=\"5e9f7c9c-f753-4bb3-b2d4-7835e9e5bad7\")>,\n",
       " <selenium.webdriver.remote.webelement.WebElement (session=\"82e82d8cffd03713aefa0b24da66badc\", element=\"8c389b3e-a963-4585-8550-a04e0bfe656d\")>,\n",
       " <selenium.webdriver.remote.webelement.WebElement (session=\"82e82d8cffd03713aefa0b24da66badc\", element=\"f0382396-c31c-4f3f-a127-3e35a231e23d\")>,\n",
       " <selenium.webdriver.remote.webelement.WebElement (session=\"82e82d8cffd03713aefa0b24da66badc\", element=\"9cdfe042-cf32-422b-97c6-67c492faf203\")>,\n",
       " <selenium.webdriver.remote.webelement.WebElement (session=\"82e82d8cffd03713aefa0b24da66badc\", element=\"e6e8ab6a-99c5-4eaa-820b-3336154bfa34\")>,\n",
       " <selenium.webdriver.remote.webelement.WebElement (session=\"82e82d8cffd03713aefa0b24da66badc\", element=\"f00909ab-a3bf-4678-b91e-f8ae2cf0cdd6\")>,\n",
       " <selenium.webdriver.remote.webelement.WebElement (session=\"82e82d8cffd03713aefa0b24da66badc\", element=\"292388f1-53ad-4acc-ad89-4ee79902381e\")>,\n",
       " <selenium.webdriver.remote.webelement.WebElement (session=\"82e82d8cffd03713aefa0b24da66badc\", element=\"2ad95477-c9c3-4bdd-8a8f-63e777a41fce\")>,\n",
       " <selenium.webdriver.remote.webelement.WebElement (session=\"82e82d8cffd03713aefa0b24da66badc\", element=\"b53bdf23-7b0e-4deb-bd88-4b0b7bb06653\")>,\n",
       " <selenium.webdriver.remote.webelement.WebElement (session=\"82e82d8cffd03713aefa0b24da66badc\", element=\"362b5940-d19f-410d-a3d7-a710d54a39fd\")>,\n",
       " <selenium.webdriver.remote.webelement.WebElement (session=\"82e82d8cffd03713aefa0b24da66badc\", element=\"f7d8f56b-980f-4e1b-b499-4f99b1b3d277\")>,\n",
       " <selenium.webdriver.remote.webelement.WebElement (session=\"82e82d8cffd03713aefa0b24da66badc\", element=\"656ca7de-85ef-46c0-bc54-7cac045e2147\")>,\n",
       " <selenium.webdriver.remote.webelement.WebElement (session=\"82e82d8cffd03713aefa0b24da66badc\", element=\"5aa728f9-b640-4d2a-ac98-1c39501d828a\")>,\n",
       " <selenium.webdriver.remote.webelement.WebElement (session=\"82e82d8cffd03713aefa0b24da66badc\", element=\"040efb10-63f3-428e-9d6c-af62e928724c\")>,\n",
       " <selenium.webdriver.remote.webelement.WebElement (session=\"82e82d8cffd03713aefa0b24da66badc\", element=\"e9882cca-593c-4cd7-9264-43e9f7feb5a7\")>,\n",
       " <selenium.webdriver.remote.webelement.WebElement (session=\"82e82d8cffd03713aefa0b24da66badc\", element=\"e7b106a1-ebad-4b2d-b953-092153077b40\")>,\n",
       " <selenium.webdriver.remote.webelement.WebElement (session=\"82e82d8cffd03713aefa0b24da66badc\", element=\"d2ca47b1-94d3-4bf6-96f5-fa111eaf1d1f\")>,\n",
       " <selenium.webdriver.remote.webelement.WebElement (session=\"82e82d8cffd03713aefa0b24da66badc\", element=\"592c8981-4031-4ebc-ac15-2f2c9728d2f5\")>]"
      ]
     },
     "execution_count": 19,
     "metadata": {},
     "output_type": "execute_result"
    }
   ],
   "source": [
    "companies_tags=driver.find_elements_by_xpath(\"//a[@class='subTitle ellipsis fleft']\")\n",
    "companies_tags"
   ]
  },
  {
   "cell_type": "code",
   "execution_count": 20,
   "metadata": {},
   "outputs": [
    {
     "data": {
      "text/plain": [
       "['Inflexion Analytix Private Limited',\n",
       " 'Wipro Limited',\n",
       " 'Xoriant Solutions Pvt Ltd',\n",
       " 'Philips India Limited',\n",
       " 'IBM India Pvt. Limited',\n",
       " 'Oracle India Pvt. Ltd.',\n",
       " 'Huawei Technologies India Pvt Ltd',\n",
       " 'Huawei Technologies India Pvt Ltd',\n",
       " 'GlobalEdx Learning and Technology Solution Pvt Ltd',\n",
       " 'GO-JEK India',\n",
       " 'nanobi data and analytics private limited',\n",
       " 'VALIANCE ANALYTICS PRIVATE LIMITED',\n",
       " 'BankBazaar.com (A&A DUKAAN FINANCIAL SERVICES PVT. LTD)',\n",
       " 'Kwalee',\n",
       " 'Analytics India Magazine',\n",
       " 'Gojek Tech',\n",
       " 'AIRBNB GLOBAL CAPABILITY CENTER PRIVATE LIMITED',\n",
       " 'Societe Generale',\n",
       " 'Kinara Financial Private Limited',\n",
       " 'COLLABERA']"
      ]
     },
     "execution_count": 20,
     "metadata": {},
     "output_type": "execute_result"
    }
   ],
   "source": [
    "company_names=[]\n",
    "for i in companies_tags:\n",
    "    company_names.append(i.text)\n",
    "company_names"
   ]
  },
  {
   "cell_type": "code",
   "execution_count": 21,
   "metadata": {},
   "outputs": [
    {
     "data": {
      "text/plain": [
       "[<selenium.webdriver.remote.webelement.WebElement (session=\"82e82d8cffd03713aefa0b24da66badc\", element=\"1230e16d-c3eb-4918-b29d-423272443709\")>,\n",
       " <selenium.webdriver.remote.webelement.WebElement (session=\"82e82d8cffd03713aefa0b24da66badc\", element=\"5627b0d7-e3c3-4ef7-8771-7d58c0b4445c\")>,\n",
       " <selenium.webdriver.remote.webelement.WebElement (session=\"82e82d8cffd03713aefa0b24da66badc\", element=\"d36d4add-3d85-4672-83f3-ed4e97846bcc\")>,\n",
       " <selenium.webdriver.remote.webelement.WebElement (session=\"82e82d8cffd03713aefa0b24da66badc\", element=\"7d1ab4f0-a55c-4aad-bc5c-6188b81d74f4\")>,\n",
       " <selenium.webdriver.remote.webelement.WebElement (session=\"82e82d8cffd03713aefa0b24da66badc\", element=\"d51e56b6-3362-4278-a666-f6a59377c7bf\")>,\n",
       " <selenium.webdriver.remote.webelement.WebElement (session=\"82e82d8cffd03713aefa0b24da66badc\", element=\"7bcfbf56-5319-47bd-bcd5-6a9661fb9c71\")>,\n",
       " <selenium.webdriver.remote.webelement.WebElement (session=\"82e82d8cffd03713aefa0b24da66badc\", element=\"4a26c2ab-54a0-43db-a8f0-a50df1071efa\")>,\n",
       " <selenium.webdriver.remote.webelement.WebElement (session=\"82e82d8cffd03713aefa0b24da66badc\", element=\"13d5439a-f2ac-4d7c-99bd-9fbc955853cf\")>,\n",
       " <selenium.webdriver.remote.webelement.WebElement (session=\"82e82d8cffd03713aefa0b24da66badc\", element=\"9466d3ef-7fd2-4fda-91b8-e0a0f852fe95\")>,\n",
       " <selenium.webdriver.remote.webelement.WebElement (session=\"82e82d8cffd03713aefa0b24da66badc\", element=\"28971449-6e44-41b2-8876-737b9f991597\")>,\n",
       " <selenium.webdriver.remote.webelement.WebElement (session=\"82e82d8cffd03713aefa0b24da66badc\", element=\"65edbb2a-6e22-4d0e-8f42-1c6320ff0303\")>,\n",
       " <selenium.webdriver.remote.webelement.WebElement (session=\"82e82d8cffd03713aefa0b24da66badc\", element=\"4a2b636d-8131-4783-bfa1-1fff971b027d\")>,\n",
       " <selenium.webdriver.remote.webelement.WebElement (session=\"82e82d8cffd03713aefa0b24da66badc\", element=\"bdf4c316-68bf-418e-b9cd-b38033576218\")>,\n",
       " <selenium.webdriver.remote.webelement.WebElement (session=\"82e82d8cffd03713aefa0b24da66badc\", element=\"0dc38ce0-af2e-4075-8387-cb6990a50304\")>,\n",
       " <selenium.webdriver.remote.webelement.WebElement (session=\"82e82d8cffd03713aefa0b24da66badc\", element=\"c84cc1a6-1dd5-44b3-9d57-baa735f4a082\")>,\n",
       " <selenium.webdriver.remote.webelement.WebElement (session=\"82e82d8cffd03713aefa0b24da66badc\", element=\"8250f0cf-9a15-4a6b-b3ae-ed3bb4b73a4d\")>,\n",
       " <selenium.webdriver.remote.webelement.WebElement (session=\"82e82d8cffd03713aefa0b24da66badc\", element=\"1672d152-24a1-433e-be45-892ff83cec8c\")>,\n",
       " <selenium.webdriver.remote.webelement.WebElement (session=\"82e82d8cffd03713aefa0b24da66badc\", element=\"0ab4bbcb-af43-4e63-8101-4ad5db5eadc3\")>,\n",
       " <selenium.webdriver.remote.webelement.WebElement (session=\"82e82d8cffd03713aefa0b24da66badc\", element=\"b5f8f485-c381-47df-969b-de84bc5c6c4e\")>,\n",
       " <selenium.webdriver.remote.webelement.WebElement (session=\"82e82d8cffd03713aefa0b24da66badc\", element=\"949e04d2-bf99-42c0-81a0-bbce62d68278\")>]"
      ]
     },
     "execution_count": 21,
     "metadata": {},
     "output_type": "execute_result"
    }
   ],
   "source": [
    "job_desc=driver.find_elements_by_xpath(\"//div[@class='job-description fs12 grey-text']\")\n",
    "job_desc"
   ]
  },
  {
   "cell_type": "code",
   "execution_count": 22,
   "metadata": {},
   "outputs": [
    {
     "data": {
      "text/plain": [
       "['Applications invited from all Freshers and experienced candidates (0-3 yrs) aspiring to...',\n",
       " 'Good statistical analysis skills for data pre-processing and data wrangling Experience ...',\n",
       " 'High motivation, good work ethic and maturityMinimum 1-3 yrs of proven project experien...',\n",
       " 'Responsibilities and Key Result Areas Design and develop project prototypes and solutio...',\n",
       " 'modeling and business system design with experience in relational SQL and NoSQL databas...',\n",
       " 'Roles and Responsibilities Looking for 6+ yrs of experience in data science, predictive...',\n",
       " 'Strong hands-on experience in implementing and validating big data algorithms and model...',\n",
       " 'Business & Team overview:Founded in 1987, Huawei is a leading global provider of ICT (i...',\n",
       " 'Experience : 3+ Years',\n",
       " 'About the Role Fasten your helmet and climb on board if youre ready to be our Senior Da...',\n",
       " 'These will be across industries and functions and must be designed generically to handl...',\n",
       " 'Programming Language: Python / SQL (Must)',\n",
       " 'Preferable to have Masters in a numerate subject such as Mathematics, Operational Resea...',\n",
       " 'Experience with AWS - Redshift, EC2, Lambda 5+Years experience using Python for data an...',\n",
       " 'We should also let you know we put a premium on a few personality traits: - You are a p...',\n",
       " 'What You Will Do Build machine learning models that generate or foster answers to some ...',\n",
       " '4+ years industry experience in a quantitative analysis roleExperience in Payments a st...',\n",
       " 'We are hiring for Lead data Scientist for Bangalore location Skills and QualificationsB...',\n",
       " 'Qualification: Any graduate in You should be a deeply curious person with a lot of humi...',\n",
       " 'Languages: Python is required, other languages are nice to have Web Fundamentals, APIs,...']"
      ]
     },
     "execution_count": 22,
     "metadata": {},
     "output_type": "execute_result"
    }
   ],
   "source": [
    "job_description=[]\n",
    "for i in job_desc:\n",
    "    job_description.append(i.text)\n",
    "job_description"
   ]
  },
  {
   "cell_type": "code",
   "execution_count": 23,
   "metadata": {},
   "outputs": [
    {
     "data": {
      "text/plain": [
       "[<selenium.webdriver.remote.webelement.WebElement (session=\"82e82d8cffd03713aefa0b24da66badc\", element=\"d18b8e44-2262-42a7-a669-ba982d3f8cf0\")>,\n",
       " <selenium.webdriver.remote.webelement.WebElement (session=\"82e82d8cffd03713aefa0b24da66badc\", element=\"007ade54-84f0-4ae5-ae26-b7c4772b9063\")>,\n",
       " <selenium.webdriver.remote.webelement.WebElement (session=\"82e82d8cffd03713aefa0b24da66badc\", element=\"305c99ec-819b-4e7e-bff9-787905a95c6d\")>,\n",
       " <selenium.webdriver.remote.webelement.WebElement (session=\"82e82d8cffd03713aefa0b24da66badc\", element=\"97e052ac-5662-494c-ac68-dfe45173caa6\")>,\n",
       " <selenium.webdriver.remote.webelement.WebElement (session=\"82e82d8cffd03713aefa0b24da66badc\", element=\"a91b3236-414f-49ad-b419-cb9361c81776\")>,\n",
       " <selenium.webdriver.remote.webelement.WebElement (session=\"82e82d8cffd03713aefa0b24da66badc\", element=\"eb18a7c3-cd08-439b-9496-fa6327877700\")>,\n",
       " <selenium.webdriver.remote.webelement.WebElement (session=\"82e82d8cffd03713aefa0b24da66badc\", element=\"12aaa01d-42b0-44ba-aa07-9ed1ae47aa98\")>,\n",
       " <selenium.webdriver.remote.webelement.WebElement (session=\"82e82d8cffd03713aefa0b24da66badc\", element=\"d67c24c3-67a7-4d9f-9f22-a31e51e2d90a\")>,\n",
       " <selenium.webdriver.remote.webelement.WebElement (session=\"82e82d8cffd03713aefa0b24da66badc\", element=\"b7fd34e4-ccc5-422c-856c-7393b128b7ba\")>,\n",
       " <selenium.webdriver.remote.webelement.WebElement (session=\"82e82d8cffd03713aefa0b24da66badc\", element=\"e75249be-8584-41a3-8373-21403d08ca91\")>,\n",
       " <selenium.webdriver.remote.webelement.WebElement (session=\"82e82d8cffd03713aefa0b24da66badc\", element=\"fdc2a753-0453-4cba-a414-1dac7ccf7097\")>,\n",
       " <selenium.webdriver.remote.webelement.WebElement (session=\"82e82d8cffd03713aefa0b24da66badc\", element=\"6bbe59cf-18c6-41d2-b782-2796eee22ae0\")>,\n",
       " <selenium.webdriver.remote.webelement.WebElement (session=\"82e82d8cffd03713aefa0b24da66badc\", element=\"d2634898-fc76-4413-96c9-3c92371daf59\")>,\n",
       " <selenium.webdriver.remote.webelement.WebElement (session=\"82e82d8cffd03713aefa0b24da66badc\", element=\"7935040e-d0b7-4472-a271-8e7e7f43ee93\")>,\n",
       " <selenium.webdriver.remote.webelement.WebElement (session=\"82e82d8cffd03713aefa0b24da66badc\", element=\"6daad2a2-18b9-46e0-896b-e734649b0e33\")>,\n",
       " <selenium.webdriver.remote.webelement.WebElement (session=\"82e82d8cffd03713aefa0b24da66badc\", element=\"f092465c-9961-4b6b-b4ee-99d918b37ce1\")>,\n",
       " <selenium.webdriver.remote.webelement.WebElement (session=\"82e82d8cffd03713aefa0b24da66badc\", element=\"20bef7b0-783b-4abc-bdf3-ce13b09aeb5d\")>,\n",
       " <selenium.webdriver.remote.webelement.WebElement (session=\"82e82d8cffd03713aefa0b24da66badc\", element=\"e0fc6173-cb1c-4d84-a2a2-8dbda5a89bd0\")>,\n",
       " <selenium.webdriver.remote.webelement.WebElement (session=\"82e82d8cffd03713aefa0b24da66badc\", element=\"516c02d8-778a-4c07-98c1-17f1399bd112\")>,\n",
       " <selenium.webdriver.remote.webelement.WebElement (session=\"82e82d8cffd03713aefa0b24da66badc\", element=\"88dddfc0-b6ff-497f-a7ba-0a0281ea69dd\")>]"
      ]
     },
     "execution_count": 23,
     "metadata": {},
     "output_type": "execute_result"
    }
   ],
   "source": [
    "locations_tags=driver.find_elements_by_xpath(\"//li[@class='fleft grey-text br2 placeHolderLi location']\")\n",
    "locations_tags"
   ]
  },
  {
   "cell_type": "code",
   "execution_count": 24,
   "metadata": {},
   "outputs": [
    {
     "data": {
      "text/plain": [
       "['Mumbai, Hyderabad/Secunderabad, Pune, Gurgaon/Gurugram, Chennai, Bangalore/Bengaluru',\n",
       " 'Kolkata, Hyderabad/Secunderabad, Chennai, Bangalore/Bengaluru',\n",
       " 'Kochi/Cochin, Indore, Hyderabad/Secunderabad, Pune, Ahmedabad, Bangalore/Bengaluru, Mumbai (All Areas)',\n",
       " 'Bangalore/Bengaluru',\n",
       " 'Bangalore/Bengaluru',\n",
       " 'Bangalore/Bengaluru',\n",
       " 'Bangalore/Bengaluru',\n",
       " 'Bangalore/Bengaluru',\n",
       " 'Hyderabad/Secunderabad, Bangalore/Bengaluru, Mumbai (All Areas)',\n",
       " 'Bangalore/Bengaluru',\n",
       " 'Bangalore/Bengaluru',\n",
       " 'Bangalore/Bengaluru, Delhi / NCR',\n",
       " 'Bangalore/Bengaluru',\n",
       " 'Bangalore/Bengaluru',\n",
       " 'Bangalore/Bengaluru',\n",
       " 'Bangalore/Bengaluru',\n",
       " 'Bangalore/Bengaluru',\n",
       " 'Bangalore/Bengaluru',\n",
       " 'Bangalore/Bengaluru',\n",
       " 'Bangalore/Bengaluru']"
      ]
     },
     "execution_count": 24,
     "metadata": {},
     "output_type": "execute_result"
    }
   ],
   "source": [
    "locations_list=[]\n",
    "for i in locations_tags:\n",
    "    locations_list.append(i.text)\n",
    "locations_list"
   ]
  },
  {
   "cell_type": "code",
   "execution_count": 25,
   "metadata": {},
   "outputs": [
    {
     "data": {
      "text/html": [
       "<div>\n",
       "<style scoped>\n",
       "    .dataframe tbody tr th:only-of-type {\n",
       "        vertical-align: middle;\n",
       "    }\n",
       "\n",
       "    .dataframe tbody tr th {\n",
       "        vertical-align: top;\n",
       "    }\n",
       "\n",
       "    .dataframe thead th {\n",
       "        text-align: right;\n",
       "    }\n",
       "</style>\n",
       "<table border=\"1\" class=\"dataframe\">\n",
       "  <thead>\n",
       "    <tr style=\"text-align: right;\">\n",
       "      <th></th>\n",
       "      <th>title</th>\n",
       "      <th>company</th>\n",
       "      <th>job description</th>\n",
       "      <th>location</th>\n",
       "    </tr>\n",
       "  </thead>\n",
       "  <tbody>\n",
       "    <tr>\n",
       "      <th>0</th>\n",
       "      <td>Data Scientist / Data Analyst -Business Analyst</td>\n",
       "      <td>Inflexion Analytix Private Limited</td>\n",
       "      <td>Applications invited from all Freshers and exp...</td>\n",
       "      <td>Mumbai, Hyderabad/Secunderabad, Pune, Gurgaon/...</td>\n",
       "    </tr>\n",
       "    <tr>\n",
       "      <th>1</th>\n",
       "      <td>Data Scientist</td>\n",
       "      <td>Wipro Limited</td>\n",
       "      <td>Good statistical analysis skills for data pre-...</td>\n",
       "      <td>Kolkata, Hyderabad/Secunderabad, Chennai, Bang...</td>\n",
       "    </tr>\n",
       "    <tr>\n",
       "      <th>2</th>\n",
       "      <td>Big Data - Data Scientist</td>\n",
       "      <td>Xoriant Solutions Pvt Ltd</td>\n",
       "      <td>High motivation, good work ethic and maturityM...</td>\n",
       "      <td>Kochi/Cochin, Indore, Hyderabad/Secunderabad, ...</td>\n",
       "    </tr>\n",
       "    <tr>\n",
       "      <th>3</th>\n",
       "      <td>Specialist I - Data Scientist</td>\n",
       "      <td>Philips India Limited</td>\n",
       "      <td>Responsibilities and Key Result Areas Design a...</td>\n",
       "      <td>Bangalore/Bengaluru</td>\n",
       "    </tr>\n",
       "    <tr>\n",
       "      <th>4</th>\n",
       "      <td>Data Scientist</td>\n",
       "      <td>IBM India Pvt. Limited</td>\n",
       "      <td>modeling and business system design with exper...</td>\n",
       "      <td>Bangalore/Bengaluru</td>\n",
       "    </tr>\n",
       "    <tr>\n",
       "      <th>5</th>\n",
       "      <td>Data Scientist</td>\n",
       "      <td>Oracle India Pvt. Ltd.</td>\n",
       "      <td>Roles and Responsibilities Looking for 6+ yrs ...</td>\n",
       "      <td>Bangalore/Bengaluru</td>\n",
       "    </tr>\n",
       "    <tr>\n",
       "      <th>6</th>\n",
       "      <td>SDE Lead Data Scientist-L3</td>\n",
       "      <td>Huawei Technologies India Pvt Ltd</td>\n",
       "      <td>Strong hands-on experience in implementing and...</td>\n",
       "      <td>Bangalore/Bengaluru</td>\n",
       "    </tr>\n",
       "    <tr>\n",
       "      <th>7</th>\n",
       "      <td>Computational Design Lead Data Scientist-L3</td>\n",
       "      <td>Huawei Technologies India Pvt Ltd</td>\n",
       "      <td>Business &amp; Team overview:Founded in 1987, Huaw...</td>\n",
       "      <td>Bangalore/Bengaluru</td>\n",
       "    </tr>\n",
       "    <tr>\n",
       "      <th>8</th>\n",
       "      <td>Hiring For DATA Scientist - ON Contract Basis ...</td>\n",
       "      <td>GlobalEdx Learning and Technology Solution Pvt...</td>\n",
       "      <td>Experience : 3+ Years</td>\n",
       "      <td>Hyderabad/Secunderabad, Bangalore/Bengaluru, M...</td>\n",
       "    </tr>\n",
       "    <tr>\n",
       "      <th>9</th>\n",
       "      <td>Senior Data Scientist</td>\n",
       "      <td>GO-JEK India</td>\n",
       "      <td>About the Role Fasten your helmet and climb on...</td>\n",
       "      <td>Bangalore/Bengaluru</td>\n",
       "    </tr>\n",
       "  </tbody>\n",
       "</table>\n",
       "</div>"
      ],
      "text/plain": [
       "                                               title  \\\n",
       "0    Data Scientist / Data Analyst -Business Analyst   \n",
       "1                                     Data Scientist   \n",
       "2                          Big Data - Data Scientist   \n",
       "3                      Specialist I - Data Scientist   \n",
       "4                                     Data Scientist   \n",
       "5                                     Data Scientist   \n",
       "6                         SDE Lead Data Scientist-L3   \n",
       "7        Computational Design Lead Data Scientist-L3   \n",
       "8  Hiring For DATA Scientist - ON Contract Basis ...   \n",
       "9                              Senior Data Scientist   \n",
       "\n",
       "                                             company  \\\n",
       "0                 Inflexion Analytix Private Limited   \n",
       "1                                      Wipro Limited   \n",
       "2                          Xoriant Solutions Pvt Ltd   \n",
       "3                              Philips India Limited   \n",
       "4                             IBM India Pvt. Limited   \n",
       "5                             Oracle India Pvt. Ltd.   \n",
       "6                  Huawei Technologies India Pvt Ltd   \n",
       "7                  Huawei Technologies India Pvt Ltd   \n",
       "8  GlobalEdx Learning and Technology Solution Pvt...   \n",
       "9                                       GO-JEK India   \n",
       "\n",
       "                                     job description  \\\n",
       "0  Applications invited from all Freshers and exp...   \n",
       "1  Good statistical analysis skills for data pre-...   \n",
       "2  High motivation, good work ethic and maturityM...   \n",
       "3  Responsibilities and Key Result Areas Design a...   \n",
       "4  modeling and business system design with exper...   \n",
       "5  Roles and Responsibilities Looking for 6+ yrs ...   \n",
       "6  Strong hands-on experience in implementing and...   \n",
       "7  Business & Team overview:Founded in 1987, Huaw...   \n",
       "8                              Experience : 3+ Years   \n",
       "9  About the Role Fasten your helmet and climb on...   \n",
       "\n",
       "                                            location  \n",
       "0  Mumbai, Hyderabad/Secunderabad, Pune, Gurgaon/...  \n",
       "1  Kolkata, Hyderabad/Secunderabad, Chennai, Bang...  \n",
       "2  Kochi/Cochin, Indore, Hyderabad/Secunderabad, ...  \n",
       "3                                Bangalore/Bengaluru  \n",
       "4                                Bangalore/Bengaluru  \n",
       "5                                Bangalore/Bengaluru  \n",
       "6                                Bangalore/Bengaluru  \n",
       "7                                Bangalore/Bengaluru  \n",
       "8  Hyderabad/Secunderabad, Bangalore/Bengaluru, M...  \n",
       "9                                Bangalore/Bengaluru  "
      ]
     },
     "execution_count": 25,
     "metadata": {},
     "output_type": "execute_result"
    }
   ],
   "source": [
    "import pandas as pd\n",
    "jobs=pd.DataFrame({})\n",
    "jobs['title']=job_titles[:10]\n",
    "jobs['company']=company_names[:10]\n",
    "jobs['job description']=job_description[:10]\n",
    "jobs['location']=locations_list[:10]\n",
    "jobs"
   ]
  },
  {
   "cell_type": "code",
   "execution_count": null,
   "metadata": {},
   "outputs": [],
   "source": []
  },
  {
   "cell_type": "code",
   "execution_count": null,
   "metadata": {},
   "outputs": [],
   "source": []
  },
  {
   "cell_type": "code",
   "execution_count": null,
   "metadata": {},
   "outputs": [],
   "source": []
  },
  {
   "cell_type": "code",
   "execution_count": null,
   "metadata": {},
   "outputs": [],
   "source": []
  }
 ],
 "metadata": {
  "kernelspec": {
   "display_name": "Python 3",
   "language": "python",
   "name": "python3"
  },
  "language_info": {
   "codemirror_mode": {
    "name": "ipython",
    "version": 3
   },
   "file_extension": ".py",
   "mimetype": "text/x-python",
   "name": "python",
   "nbconvert_exporter": "python",
   "pygments_lexer": "ipython3",
   "version": "3.8.3"
  }
 },
 "nbformat": 4,
 "nbformat_minor": 4
}
