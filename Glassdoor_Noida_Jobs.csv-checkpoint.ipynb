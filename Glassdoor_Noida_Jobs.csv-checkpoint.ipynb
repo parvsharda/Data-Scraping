{
 "cells": [
  {
   "cell_type": "code",
   "execution_count": 7,
   "metadata": {},
   "outputs": [],
   "source": [
    "import selenium\n",
    "import pandas as pd\n",
    "from selenium import webdriver"
   ]
  },
  {
   "cell_type": "code",
   "execution_count": 8,
   "metadata": {},
   "outputs": [],
   "source": [
    "driver=webdriver.Chrome('chromedriver.exe')"
   ]
  },
  {
   "cell_type": "code",
   "execution_count": 9,
   "metadata": {},
   "outputs": [],
   "source": [
    "url='https://www.glassdoor.co.in/Job/noida-data-scientist-jobs-SRCH_IL.0,5_IC4477468_KO6,20.htm'\n",
    "driver.get(url)"
   ]
  },
  {
   "cell_type": "code",
   "execution_count": 27,
   "metadata": {},
   "outputs": [
    {
     "data": {
      "text/plain": [
       "[<selenium.webdriver.remote.webelement.WebElement (session=\"de71ed76a95ceccbd082c54ebf7bb63f\", element=\"740fce24-d35f-4259-bab9-e641829c3c79\")>,\n",
       " <selenium.webdriver.remote.webelement.WebElement (session=\"de71ed76a95ceccbd082c54ebf7bb63f\", element=\"922d9f17-2d44-41af-943e-58a94a93915e\")>,\n",
       " <selenium.webdriver.remote.webelement.WebElement (session=\"de71ed76a95ceccbd082c54ebf7bb63f\", element=\"cc636612-dfdc-4ba5-8ea2-53640039b4c4\")>,\n",
       " <selenium.webdriver.remote.webelement.WebElement (session=\"de71ed76a95ceccbd082c54ebf7bb63f\", element=\"064b8758-bad5-4c50-9b40-21ab300f75fe\")>,\n",
       " <selenium.webdriver.remote.webelement.WebElement (session=\"de71ed76a95ceccbd082c54ebf7bb63f\", element=\"bb9cf3d1-6fbb-4bbe-97a7-3c2d1d6a277f\")>,\n",
       " <selenium.webdriver.remote.webelement.WebElement (session=\"de71ed76a95ceccbd082c54ebf7bb63f\", element=\"5ff8ada1-aa28-4bb4-b252-5c271dbcbcbd\")>,\n",
       " <selenium.webdriver.remote.webelement.WebElement (session=\"de71ed76a95ceccbd082c54ebf7bb63f\", element=\"ebdfc3ce-5e7b-4ab9-b5fd-becaa2ddc391\")>,\n",
       " <selenium.webdriver.remote.webelement.WebElement (session=\"de71ed76a95ceccbd082c54ebf7bb63f\", element=\"316f1fe7-3806-4fba-94ac-b76bd0636aed\")>,\n",
       " <selenium.webdriver.remote.webelement.WebElement (session=\"de71ed76a95ceccbd082c54ebf7bb63f\", element=\"b0622692-4323-49f9-9e9a-67dce34409df\")>,\n",
       " <selenium.webdriver.remote.webelement.WebElement (session=\"de71ed76a95ceccbd082c54ebf7bb63f\", element=\"8ee4dd1c-e7df-478d-95ec-bf9e1d34b68a\")>,\n",
       " <selenium.webdriver.remote.webelement.WebElement (session=\"de71ed76a95ceccbd082c54ebf7bb63f\", element=\"f416a4e7-43d5-4e88-93c7-e324d2252034\")>,\n",
       " <selenium.webdriver.remote.webelement.WebElement (session=\"de71ed76a95ceccbd082c54ebf7bb63f\", element=\"6a3e8639-d592-4b13-ac9d-73ea647fc3bd\")>,\n",
       " <selenium.webdriver.remote.webelement.WebElement (session=\"de71ed76a95ceccbd082c54ebf7bb63f\", element=\"bb6d2f93-a1cf-4b46-b2d7-a7074160fb78\")>,\n",
       " <selenium.webdriver.remote.webelement.WebElement (session=\"de71ed76a95ceccbd082c54ebf7bb63f\", element=\"028b7525-a68f-4b3f-bd37-74bcb2018599\")>,\n",
       " <selenium.webdriver.remote.webelement.WebElement (session=\"de71ed76a95ceccbd082c54ebf7bb63f\", element=\"fcb4aea5-0691-48e4-be79-569ae75276d2\")>,\n",
       " <selenium.webdriver.remote.webelement.WebElement (session=\"de71ed76a95ceccbd082c54ebf7bb63f\", element=\"84e8f581-f32d-45a5-9ae4-9f1ace9b64e5\")>,\n",
       " <selenium.webdriver.remote.webelement.WebElement (session=\"de71ed76a95ceccbd082c54ebf7bb63f\", element=\"3f7f1ed9-cd95-4e24-bf5e-8740b33320b5\")>,\n",
       " <selenium.webdriver.remote.webelement.WebElement (session=\"de71ed76a95ceccbd082c54ebf7bb63f\", element=\"f0b9cc0f-83b0-444f-8047-0eb0a4c4ea76\")>,\n",
       " <selenium.webdriver.remote.webelement.WebElement (session=\"de71ed76a95ceccbd082c54ebf7bb63f\", element=\"0d4e38e1-c476-4320-8848-b8d0ecba0f2f\")>,\n",
       " <selenium.webdriver.remote.webelement.WebElement (session=\"de71ed76a95ceccbd082c54ebf7bb63f\", element=\"d8681262-118a-4ff8-8a7a-8a4de604e7ad\")>,\n",
       " <selenium.webdriver.remote.webelement.WebElement (session=\"de71ed76a95ceccbd082c54ebf7bb63f\", element=\"3e20e471-adb8-43a6-933e-8153fa39dcfb\")>,\n",
       " <selenium.webdriver.remote.webelement.WebElement (session=\"de71ed76a95ceccbd082c54ebf7bb63f\", element=\"b4783b32-e454-4f93-8fea-9473417f72a0\")>,\n",
       " <selenium.webdriver.remote.webelement.WebElement (session=\"de71ed76a95ceccbd082c54ebf7bb63f\", element=\"aac1587e-4790-42f3-8a8b-9b2bbc9588dd\")>,\n",
       " <selenium.webdriver.remote.webelement.WebElement (session=\"de71ed76a95ceccbd082c54ebf7bb63f\", element=\"5cc3a0e8-0281-49b0-8143-a2ce1d5ce8bb\")>,\n",
       " <selenium.webdriver.remote.webelement.WebElement (session=\"de71ed76a95ceccbd082c54ebf7bb63f\", element=\"5602805a-f8aa-4bc6-bd62-5ff9e698e87f\")>,\n",
       " <selenium.webdriver.remote.webelement.WebElement (session=\"de71ed76a95ceccbd082c54ebf7bb63f\", element=\"7238490e-fe08-4827-af5a-3eafb585d417\")>,\n",
       " <selenium.webdriver.remote.webelement.WebElement (session=\"de71ed76a95ceccbd082c54ebf7bb63f\", element=\"4510a04c-ac4b-452c-8e88-e50bbaef68f5\")>,\n",
       " <selenium.webdriver.remote.webelement.WebElement (session=\"de71ed76a95ceccbd082c54ebf7bb63f\", element=\"78509ee0-2b5b-4e49-a3fa-041cf190d2ee\")>,\n",
       " <selenium.webdriver.remote.webelement.WebElement (session=\"de71ed76a95ceccbd082c54ebf7bb63f\", element=\"859abec1-1c5a-4581-854b-b9c245f5fb90\")>,\n",
       " <selenium.webdriver.remote.webelement.WebElement (session=\"de71ed76a95ceccbd082c54ebf7bb63f\", element=\"bc2a2297-74bb-4d13-bb24-4c369404ac85\")>]"
      ]
     },
     "execution_count": 27,
     "metadata": {},
     "output_type": "execute_result"
    }
   ],
   "source": [
    "title_tags=driver.find_elements_by_xpath(\"//div[@class='d-flex justify-content-between align-items-start']\")\n",
    "title_tags"
   ]
  },
  {
   "cell_type": "code",
   "execution_count": 29,
   "metadata": {},
   "outputs": [
    {
     "data": {
      "text/plain": [
       "['NatWest Group',\n",
       " 'CRMNEXT',\n",
       " 'Adobe',\n",
       " 'Ericsson',\n",
       " 'WishFin',\n",
       " 'dunnhumby',\n",
       " 'CRMNEXT',\n",
       " 'Apsidata Solutions',\n",
       " 'Adobe',\n",
       " 'Biz2Credit Inc',\n",
       " 'Scry Analytics',\n",
       " 'Techlive',\n",
       " 'Khan Academy',\n",
       " 'Data Trained Education',\n",
       " 'Dürr Somac GmbH',\n",
       " 'Dürr IT Services India',\n",
       " 'xtLytics',\n",
       " 'xtLytics',\n",
       " 'Priority Vendor',\n",
       " 'Innovacer',\n",
       " 'MasterCard',\n",
       " 'SearchUrCollege',\n",
       " 'Nitesh Kumar',\n",
       " 'Genpact',\n",
       " 'Lantern Digital Services',\n",
       " 'ANI Calls India Private Limited',\n",
       " 'KNOWLVERS CONSULTING PVT LTD',\n",
       " 'iGloble Solutions',\n",
       " 'ANI Calls India Private Limited',\n",
       " 'The Corporate Executive Board Company']"
      ]
     },
     "execution_count": 29,
     "metadata": {},
     "output_type": "execute_result"
    }
   ],
   "source": [
    "Company_titles=[]\n",
    "for i in title_tags:\n",
    "    Company_titles.append(i.text)\n",
    "Company_titles"
   ]
  },
  {
   "cell_type": "code",
   "execution_count": 30,
   "metadata": {},
   "outputs": [
    {
     "data": {
      "text/plain": [
       "[<selenium.webdriver.remote.webelement.WebElement (session=\"de71ed76a95ceccbd082c54ebf7bb63f\", element=\"45bd5df0-10d4-4563-b2c5-66de9f33bbb7\")>,\n",
       " <selenium.webdriver.remote.webelement.WebElement (session=\"de71ed76a95ceccbd082c54ebf7bb63f\", element=\"85543992-4be0-47ea-9746-d74e9914611c\")>,\n",
       " <selenium.webdriver.remote.webelement.WebElement (session=\"de71ed76a95ceccbd082c54ebf7bb63f\", element=\"ce1d541e-de4c-4c01-9786-b59546faf848\")>,\n",
       " <selenium.webdriver.remote.webelement.WebElement (session=\"de71ed76a95ceccbd082c54ebf7bb63f\", element=\"5906bb8e-32f3-4884-a16e-1a4092c5d4e9\")>,\n",
       " <selenium.webdriver.remote.webelement.WebElement (session=\"de71ed76a95ceccbd082c54ebf7bb63f\", element=\"b23f0be4-9ee4-49ed-b42a-1a7002187836\")>,\n",
       " <selenium.webdriver.remote.webelement.WebElement (session=\"de71ed76a95ceccbd082c54ebf7bb63f\", element=\"dc176c98-7007-46fc-92ff-a2b9abeb6736\")>,\n",
       " <selenium.webdriver.remote.webelement.WebElement (session=\"de71ed76a95ceccbd082c54ebf7bb63f\", element=\"1b9e6fa8-05f5-4fec-8faa-d91ddce2beb8\")>,\n",
       " <selenium.webdriver.remote.webelement.WebElement (session=\"de71ed76a95ceccbd082c54ebf7bb63f\", element=\"dbd186cb-8aaf-4677-86bc-aa908568267b\")>,\n",
       " <selenium.webdriver.remote.webelement.WebElement (session=\"de71ed76a95ceccbd082c54ebf7bb63f\", element=\"bc620dc5-8325-4aaa-949a-6627cca1764a\")>,\n",
       " <selenium.webdriver.remote.webelement.WebElement (session=\"de71ed76a95ceccbd082c54ebf7bb63f\", element=\"825cf707-6cfa-4fc2-84f8-5bcca01d2003\")>,\n",
       " <selenium.webdriver.remote.webelement.WebElement (session=\"de71ed76a95ceccbd082c54ebf7bb63f\", element=\"48309ade-d142-450b-a027-76ce14e5b69f\")>,\n",
       " <selenium.webdriver.remote.webelement.WebElement (session=\"de71ed76a95ceccbd082c54ebf7bb63f\", element=\"dc23db76-fee0-46a8-8473-4299b598298b\")>,\n",
       " <selenium.webdriver.remote.webelement.WebElement (session=\"de71ed76a95ceccbd082c54ebf7bb63f\", element=\"2103305c-f7c3-471e-bf73-efcaf0e45c8b\")>,\n",
       " <selenium.webdriver.remote.webelement.WebElement (session=\"de71ed76a95ceccbd082c54ebf7bb63f\", element=\"d4d97901-f541-4db0-b105-eab340371db4\")>,\n",
       " <selenium.webdriver.remote.webelement.WebElement (session=\"de71ed76a95ceccbd082c54ebf7bb63f\", element=\"c7c292b2-e63c-49b4-9d74-ed9346daaece\")>,\n",
       " <selenium.webdriver.remote.webelement.WebElement (session=\"de71ed76a95ceccbd082c54ebf7bb63f\", element=\"737543ba-2420-491b-8958-9ec6edd3f172\")>,\n",
       " <selenium.webdriver.remote.webelement.WebElement (session=\"de71ed76a95ceccbd082c54ebf7bb63f\", element=\"bc11b52e-a0da-477b-9783-41ed491f73bd\")>,\n",
       " <selenium.webdriver.remote.webelement.WebElement (session=\"de71ed76a95ceccbd082c54ebf7bb63f\", element=\"98299f1f-1b4f-4d88-b6f2-da3e6832ad77\")>,\n",
       " <selenium.webdriver.remote.webelement.WebElement (session=\"de71ed76a95ceccbd082c54ebf7bb63f\", element=\"4eaee5b7-f3c5-411f-895b-1425a908e6ab\")>,\n",
       " <selenium.webdriver.remote.webelement.WebElement (session=\"de71ed76a95ceccbd082c54ebf7bb63f\", element=\"a1fa07da-e122-4d1f-a86b-fe37dd68a5c0\")>,\n",
       " <selenium.webdriver.remote.webelement.WebElement (session=\"de71ed76a95ceccbd082c54ebf7bb63f\", element=\"d6847510-8052-45f5-8892-936a2cefc5a6\")>,\n",
       " <selenium.webdriver.remote.webelement.WebElement (session=\"de71ed76a95ceccbd082c54ebf7bb63f\", element=\"440e3798-2af5-4f50-b7cb-1affac193422\")>,\n",
       " <selenium.webdriver.remote.webelement.WebElement (session=\"de71ed76a95ceccbd082c54ebf7bb63f\", element=\"0e40d2ff-b9d6-4a61-aec7-202bbee14f31\")>,\n",
       " <selenium.webdriver.remote.webelement.WebElement (session=\"de71ed76a95ceccbd082c54ebf7bb63f\", element=\"b283264c-9b91-4431-bf5e-157f8c8f4063\")>,\n",
       " <selenium.webdriver.remote.webelement.WebElement (session=\"de71ed76a95ceccbd082c54ebf7bb63f\", element=\"11a64ffb-5913-46b8-805d-308aa87a5bde\")>,\n",
       " <selenium.webdriver.remote.webelement.WebElement (session=\"de71ed76a95ceccbd082c54ebf7bb63f\", element=\"11307b43-9b5d-4294-9160-9ed967b0c305\")>,\n",
       " <selenium.webdriver.remote.webelement.WebElement (session=\"de71ed76a95ceccbd082c54ebf7bb63f\", element=\"7346a555-044e-43dc-8020-6e137ed031a2\")>,\n",
       " <selenium.webdriver.remote.webelement.WebElement (session=\"de71ed76a95ceccbd082c54ebf7bb63f\", element=\"76a12672-98ef-481a-ab67-d8a5e57904aa\")>,\n",
       " <selenium.webdriver.remote.webelement.WebElement (session=\"de71ed76a95ceccbd082c54ebf7bb63f\", element=\"7537744c-2ae4-48ec-859d-1f28d563e79d\")>,\n",
       " <selenium.webdriver.remote.webelement.WebElement (session=\"de71ed76a95ceccbd082c54ebf7bb63f\", element=\"5885be4a-fdd9-4330-ba7c-7f5805693148\")>]"
      ]
     },
     "execution_count": 30,
     "metadata": {},
     "output_type": "execute_result"
    }
   ],
   "source": [
    "Date=driver.find_elements_by_xpath(\"//div[@class='d-flex align-items-end pl-std css-mi55ob']\")\n",
    "Date"
   ]
  },
  {
   "cell_type": "code",
   "execution_count": 32,
   "metadata": {},
   "outputs": [
    {
     "data": {
      "text/plain": [
       "['24h',\n",
       " '16d',\n",
       " '29d',\n",
       " '4d',\n",
       " '30d+',\n",
       " '2d',\n",
       " '16d',\n",
       " '8d',\n",
       " '2d',\n",
       " '30d+',\n",
       " '2d',\n",
       " '30d+',\n",
       " '2d',\n",
       " '6d',\n",
       " '30d+',\n",
       " '30d+',\n",
       " '30d+',\n",
       " '30d+',\n",
       " '30d+',\n",
       " '30d+',\n",
       " '26d',\n",
       " '30d+',\n",
       " '13d',\n",
       " '30d+',\n",
       " '30d+',\n",
       " '30d+',\n",
       " '27d',\n",
       " '30d+',\n",
       " '7d',\n",
       " '7d']"
      ]
     },
     "execution_count": 32,
     "metadata": {},
     "output_type": "execute_result"
    }
   ],
   "source": [
    "date_posted=[]\n",
    "for i in Date:\n",
    "    date_posted.append(i.text)\n",
    "date_posted"
   ]
  },
  {
   "cell_type": "code",
   "execution_count": 33,
   "metadata": {},
   "outputs": [
    {
     "data": {
      "text/plain": [
       "[<selenium.webdriver.remote.webelement.WebElement (session=\"de71ed76a95ceccbd082c54ebf7bb63f\", element=\"5ec64924-f058-45ff-b0e7-370b57a7e1f2\")>,\n",
       " <selenium.webdriver.remote.webelement.WebElement (session=\"de71ed76a95ceccbd082c54ebf7bb63f\", element=\"ebc7205d-698d-4b6b-8ff7-09578c2b3ada\")>,\n",
       " <selenium.webdriver.remote.webelement.WebElement (session=\"de71ed76a95ceccbd082c54ebf7bb63f\", element=\"f00a0705-f88c-4069-b260-beba6a17036b\")>,\n",
       " <selenium.webdriver.remote.webelement.WebElement (session=\"de71ed76a95ceccbd082c54ebf7bb63f\", element=\"81ec80e4-2825-4e86-b0b5-23ab0d6ef1c8\")>,\n",
       " <selenium.webdriver.remote.webelement.WebElement (session=\"de71ed76a95ceccbd082c54ebf7bb63f\", element=\"a58153e4-d581-4419-8cb1-6dba3c632afd\")>,\n",
       " <selenium.webdriver.remote.webelement.WebElement (session=\"de71ed76a95ceccbd082c54ebf7bb63f\", element=\"6108ce02-8a79-45eb-91d3-e918f5eab78f\")>,\n",
       " <selenium.webdriver.remote.webelement.WebElement (session=\"de71ed76a95ceccbd082c54ebf7bb63f\", element=\"2f79581e-6cc7-41a7-93c5-730817357d96\")>,\n",
       " <selenium.webdriver.remote.webelement.WebElement (session=\"de71ed76a95ceccbd082c54ebf7bb63f\", element=\"658a12ac-acb9-4b66-b3a6-05966d94d23f\")>,\n",
       " <selenium.webdriver.remote.webelement.WebElement (session=\"de71ed76a95ceccbd082c54ebf7bb63f\", element=\"1ed9b244-586b-4602-8e22-817b1c105099\")>,\n",
       " <selenium.webdriver.remote.webelement.WebElement (session=\"de71ed76a95ceccbd082c54ebf7bb63f\", element=\"4e389598-b408-4909-be62-8e35cac47ef1\")>,\n",
       " <selenium.webdriver.remote.webelement.WebElement (session=\"de71ed76a95ceccbd082c54ebf7bb63f\", element=\"29c67a29-c5ff-442d-98ba-b9d54a1748a9\")>,\n",
       " <selenium.webdriver.remote.webelement.WebElement (session=\"de71ed76a95ceccbd082c54ebf7bb63f\", element=\"e332dead-865d-408c-86b2-6fc8f606013d\")>,\n",
       " <selenium.webdriver.remote.webelement.WebElement (session=\"de71ed76a95ceccbd082c54ebf7bb63f\", element=\"05682dbc-89b3-4cbb-9db2-12d355b57d36\")>,\n",
       " <selenium.webdriver.remote.webelement.WebElement (session=\"de71ed76a95ceccbd082c54ebf7bb63f\", element=\"e3983b77-700e-427b-8a1b-7f7829ff3b47\")>,\n",
       " <selenium.webdriver.remote.webelement.WebElement (session=\"de71ed76a95ceccbd082c54ebf7bb63f\", element=\"b660056a-1492-4e5a-985a-d93b4b7dda68\")>,\n",
       " <selenium.webdriver.remote.webelement.WebElement (session=\"de71ed76a95ceccbd082c54ebf7bb63f\", element=\"581d43c2-7c91-499e-9d0e-cc4fe7a19896\")>,\n",
       " <selenium.webdriver.remote.webelement.WebElement (session=\"de71ed76a95ceccbd082c54ebf7bb63f\", element=\"c0be8ffc-3f62-41db-bf4c-abc40d976ed8\")>,\n",
       " <selenium.webdriver.remote.webelement.WebElement (session=\"de71ed76a95ceccbd082c54ebf7bb63f\", element=\"a3660d0c-42be-40e2-93a3-a47091102905\")>,\n",
       " <selenium.webdriver.remote.webelement.WebElement (session=\"de71ed76a95ceccbd082c54ebf7bb63f\", element=\"8e2848be-0b78-419e-83ce-346fd630eecb\")>,\n",
       " <selenium.webdriver.remote.webelement.WebElement (session=\"de71ed76a95ceccbd082c54ebf7bb63f\", element=\"99270781-2a2c-4e48-a0da-97a63c2dc8c8\")>,\n",
       " <selenium.webdriver.remote.webelement.WebElement (session=\"de71ed76a95ceccbd082c54ebf7bb63f\", element=\"c1dfe120-4e9f-4cd6-a522-90975181a1e8\")>,\n",
       " <selenium.webdriver.remote.webelement.WebElement (session=\"de71ed76a95ceccbd082c54ebf7bb63f\", element=\"9cf7f0de-5d3d-4721-b63d-76404a7dfa17\")>,\n",
       " <selenium.webdriver.remote.webelement.WebElement (session=\"de71ed76a95ceccbd082c54ebf7bb63f\", element=\"1c3aeda4-4d75-41c3-84e4-6cf6b79528bd\")>]"
      ]
     },
     "execution_count": 33,
     "metadata": {},
     "output_type": "execute_result"
    }
   ],
   "source": [
    "Company_rating=driver.find_elements_by_xpath(\"//span[@class='css-19pjha7 e1cjmv6j1']\")\n",
    "Company_rating"
   ]
  },
  {
   "cell_type": "code",
   "execution_count": 35,
   "metadata": {},
   "outputs": [
    {
     "data": {
      "text/plain": [
       "['3.9',\n",
       " '3.6',\n",
       " '4.4',\n",
       " '4.1',\n",
       " '3.8',\n",
       " '4.1',\n",
       " '3.6',\n",
       " '4.3',\n",
       " '4.4',\n",
       " '3.8',\n",
       " '5.0',\n",
       " '4.0',\n",
       " '4.0',\n",
       " '3.0',\n",
       " '3.0',\n",
       " '3.7',\n",
       " '3.6',\n",
       " '4.3',\n",
       " '3.8',\n",
       " '3.8',\n",
       " '3.6',\n",
       " '4.0',\n",
       " '3.8']"
      ]
     },
     "execution_count": 35,
     "metadata": {},
     "output_type": "execute_result"
    }
   ],
   "source": [
    "rating=[]\n",
    "for i in Company_rating:\n",
    "    rating.append(i.text)\n",
    "rating"
   ]
  },
  {
   "cell_type": "code",
   "execution_count": 37,
   "metadata": {},
   "outputs": [
    {
     "data": {
      "text/html": [
       "<div>\n",
       "<style scoped>\n",
       "    .dataframe tbody tr th:only-of-type {\n",
       "        vertical-align: middle;\n",
       "    }\n",
       "\n",
       "    .dataframe tbody tr th {\n",
       "        vertical-align: top;\n",
       "    }\n",
       "\n",
       "    .dataframe thead th {\n",
       "        text-align: right;\n",
       "    }\n",
       "</style>\n",
       "<table border=\"1\" class=\"dataframe\">\n",
       "  <thead>\n",
       "    <tr style=\"text-align: right;\">\n",
       "      <th></th>\n",
       "      <th>Name of the Company</th>\n",
       "      <th>Rating</th>\n",
       "      <th>Date Posted</th>\n",
       "    </tr>\n",
       "  </thead>\n",
       "  <tbody>\n",
       "    <tr>\n",
       "      <th>0</th>\n",
       "      <td>NatWest Group</td>\n",
       "      <td>3.9</td>\n",
       "      <td>24h</td>\n",
       "    </tr>\n",
       "    <tr>\n",
       "      <th>1</th>\n",
       "      <td>CRMNEXT</td>\n",
       "      <td>3.6</td>\n",
       "      <td>16d</td>\n",
       "    </tr>\n",
       "    <tr>\n",
       "      <th>2</th>\n",
       "      <td>Adobe</td>\n",
       "      <td>4.4</td>\n",
       "      <td>29d</td>\n",
       "    </tr>\n",
       "    <tr>\n",
       "      <th>3</th>\n",
       "      <td>Ericsson</td>\n",
       "      <td>4.1</td>\n",
       "      <td>4d</td>\n",
       "    </tr>\n",
       "    <tr>\n",
       "      <th>4</th>\n",
       "      <td>WishFin</td>\n",
       "      <td>3.8</td>\n",
       "      <td>30d+</td>\n",
       "    </tr>\n",
       "    <tr>\n",
       "      <th>5</th>\n",
       "      <td>dunnhumby</td>\n",
       "      <td>4.1</td>\n",
       "      <td>2d</td>\n",
       "    </tr>\n",
       "    <tr>\n",
       "      <th>6</th>\n",
       "      <td>CRMNEXT</td>\n",
       "      <td>3.6</td>\n",
       "      <td>16d</td>\n",
       "    </tr>\n",
       "    <tr>\n",
       "      <th>7</th>\n",
       "      <td>Apsidata Solutions</td>\n",
       "      <td>4.3</td>\n",
       "      <td>8d</td>\n",
       "    </tr>\n",
       "    <tr>\n",
       "      <th>8</th>\n",
       "      <td>Adobe</td>\n",
       "      <td>4.4</td>\n",
       "      <td>2d</td>\n",
       "    </tr>\n",
       "    <tr>\n",
       "      <th>9</th>\n",
       "      <td>Biz2Credit Inc</td>\n",
       "      <td>3.8</td>\n",
       "      <td>30d+</td>\n",
       "    </tr>\n",
       "  </tbody>\n",
       "</table>\n",
       "</div>"
      ],
      "text/plain": [
       "  Name of the Company Rating Date Posted\n",
       "0       NatWest Group    3.9         24h\n",
       "1             CRMNEXT    3.6         16d\n",
       "2               Adobe    4.4         29d\n",
       "3            Ericsson    4.1          4d\n",
       "4             WishFin    3.8        30d+\n",
       "5           dunnhumby    4.1          2d\n",
       "6             CRMNEXT    3.6         16d\n",
       "7  Apsidata Solutions    4.3          8d\n",
       "8               Adobe    4.4          2d\n",
       "9      Biz2Credit Inc    3.8        30d+"
      ]
     },
     "execution_count": 37,
     "metadata": {},
     "output_type": "execute_result"
    }
   ],
   "source": [
    "jobs=pd.DataFrame({})\n",
    "jobs[\"Name of the Company\"]=Company_titles[:10]\n",
    "jobs[\"Rating\"]=rating[:10]\n",
    "jobs[\"Date Posted\"]=date_posted[:10]\n",
    "jobs"
   ]
  },
  {
   "cell_type": "code",
   "execution_count": null,
   "metadata": {},
   "outputs": [],
   "source": []
  }
 ],
 "metadata": {
  "kernelspec": {
   "display_name": "Python 3",
   "language": "python",
   "name": "python3"
  },
  "language_info": {
   "codemirror_mode": {
    "name": "ipython",
    "version": 3
   },
   "file_extension": ".py",
   "mimetype": "text/x-python",
   "name": "python",
   "nbconvert_exporter": "python",
   "pygments_lexer": "ipython3",
   "version": "3.8.3"
  }
 },
 "nbformat": 4,
 "nbformat_minor": 4
}
