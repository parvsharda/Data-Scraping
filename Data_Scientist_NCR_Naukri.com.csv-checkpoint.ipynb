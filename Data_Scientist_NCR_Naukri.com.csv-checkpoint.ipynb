{
 "cells": [
  {
   "cell_type": "code",
   "execution_count": 1,
   "metadata": {},
   "outputs": [],
   "source": [
    "import selenium\n",
    "import pandas as pd\n",
    "from selenium import webdriver"
   ]
  },
  {
   "cell_type": "code",
   "execution_count": 2,
   "metadata": {},
   "outputs": [],
   "source": [
    "driver= webdriver.Chrome('chromedriver.exe')"
   ]
  },
  {
   "cell_type": "code",
   "execution_count": 3,
   "metadata": {},
   "outputs": [],
   "source": [
    "url='https://www.naukri.com/data-scientist-jobs-in-delhi-ncr?k=data%20scientist&l=delhi%2Fncr&ctcFilter=3to6'\n",
    "driver.get(url)"
   ]
  },
  {
   "cell_type": "code",
   "execution_count": 13,
   "metadata": {},
   "outputs": [
    {
     "data": {
      "text/plain": [
       "[<selenium.webdriver.remote.webelement.WebElement (session=\"0c8d3db496f864350bf289916a5e562e\", element=\"3a035282-6ab8-47d4-877e-cab167da3632\")>,\n",
       " <selenium.webdriver.remote.webelement.WebElement (session=\"0c8d3db496f864350bf289916a5e562e\", element=\"ef2c0a0c-d7a3-4664-957b-3494682a99a9\")>,\n",
       " <selenium.webdriver.remote.webelement.WebElement (session=\"0c8d3db496f864350bf289916a5e562e\", element=\"7df95afe-6ffa-42da-b423-05f26edf92e8\")>,\n",
       " <selenium.webdriver.remote.webelement.WebElement (session=\"0c8d3db496f864350bf289916a5e562e\", element=\"e0af065a-4083-4416-be72-53b34a5b5fce\")>,\n",
       " <selenium.webdriver.remote.webelement.WebElement (session=\"0c8d3db496f864350bf289916a5e562e\", element=\"577c5f96-fa5c-427e-b5ea-33095c9399d9\")>,\n",
       " <selenium.webdriver.remote.webelement.WebElement (session=\"0c8d3db496f864350bf289916a5e562e\", element=\"d7a64bc9-49fe-4a73-9c7d-8a5a79927bdb\")>,\n",
       " <selenium.webdriver.remote.webelement.WebElement (session=\"0c8d3db496f864350bf289916a5e562e\", element=\"d54730f4-3bce-496d-b22e-299f278ca002\")>,\n",
       " <selenium.webdriver.remote.webelement.WebElement (session=\"0c8d3db496f864350bf289916a5e562e\", element=\"7a7577d3-132e-45c4-ab5c-5c5e50017eb5\")>,\n",
       " <selenium.webdriver.remote.webelement.WebElement (session=\"0c8d3db496f864350bf289916a5e562e\", element=\"b3797235-ec09-4af3-a610-fa703615f40e\")>,\n",
       " <selenium.webdriver.remote.webelement.WebElement (session=\"0c8d3db496f864350bf289916a5e562e\", element=\"2a3c0bdb-5550-4d4e-9abd-c3fc164b154a\")>,\n",
       " <selenium.webdriver.remote.webelement.WebElement (session=\"0c8d3db496f864350bf289916a5e562e\", element=\"04a14b0e-9b74-49b1-bb7b-dc01cec311c2\")>,\n",
       " <selenium.webdriver.remote.webelement.WebElement (session=\"0c8d3db496f864350bf289916a5e562e\", element=\"bc86bd3c-e3a1-4cd0-a78d-55f4dca81edd\")>,\n",
       " <selenium.webdriver.remote.webelement.WebElement (session=\"0c8d3db496f864350bf289916a5e562e\", element=\"f0050295-76e2-4e46-85c5-f138f29f58f8\")>,\n",
       " <selenium.webdriver.remote.webelement.WebElement (session=\"0c8d3db496f864350bf289916a5e562e\", element=\"9c3ac130-16d5-4ee3-9d49-ea1a9910fe5c\")>,\n",
       " <selenium.webdriver.remote.webelement.WebElement (session=\"0c8d3db496f864350bf289916a5e562e\", element=\"d9fca761-ef98-423c-9059-81bc2e9603a8\")>,\n",
       " <selenium.webdriver.remote.webelement.WebElement (session=\"0c8d3db496f864350bf289916a5e562e\", element=\"1ff01875-8641-495d-930f-cf55a4cd32f6\")>,\n",
       " <selenium.webdriver.remote.webelement.WebElement (session=\"0c8d3db496f864350bf289916a5e562e\", element=\"2643fb17-51b1-4ac3-b4ac-38e669ed5d2e\")>,\n",
       " <selenium.webdriver.remote.webelement.WebElement (session=\"0c8d3db496f864350bf289916a5e562e\", element=\"57648a17-d9b2-47b0-94c1-ba4c052d797d\")>,\n",
       " <selenium.webdriver.remote.webelement.WebElement (session=\"0c8d3db496f864350bf289916a5e562e\", element=\"a6d5326a-5c66-4bc0-b54e-0726a104eaaa\")>,\n",
       " <selenium.webdriver.remote.webelement.WebElement (session=\"0c8d3db496f864350bf289916a5e562e\", element=\"8c12fea0-704a-4459-bc7d-2c450f191b26\")>]"
      ]
     },
     "execution_count": 13,
     "metadata": {},
     "output_type": "execute_result"
    }
   ],
   "source": [
    "# so extract all the tags having the job-title\n",
    "\n",
    "titles_tags=driver.find_elements_by_xpath(\"//a[@class='title fw500 ellipsis']\")\n",
    "titles_tags"
   ]
  },
  {
   "cell_type": "code",
   "execution_count": 14,
   "metadata": {},
   "outputs": [
    {
     "data": {
      "text/plain": [
       "['Data Scientist / Data Analyst -Business Analyst',\n",
       " 'Business Analyst- Data Scientist',\n",
       " 'Data Scientist - High growth VC backed Influencer Marketplace',\n",
       " 'DATA Scientist – Gurgaon (Exp 3-6 years)',\n",
       " 'DATA Scientist – Gurgaon (Exp 3-6 years)',\n",
       " 'Data Scientist - Noida',\n",
       " 'Data Scientist',\n",
       " 'Data Scientist',\n",
       " 'Data Scientist',\n",
       " 'Senior Data Scientist II 5+ yrs II Gurgaon',\n",
       " 'Senior Data Scientist',\n",
       " 'Data Scientist',\n",
       " 'Data Scientist',\n",
       " 'Data Scientist',\n",
       " 'Data Scientist',\n",
       " 'Data Scientist Machine Learning',\n",
       " 'Data Scientist',\n",
       " 'Data Scientist',\n",
       " 'Associate Data Scientist',\n",
       " 'Associate Data Scientist']"
      ]
     },
     "execution_count": 14,
     "metadata": {},
     "output_type": "execute_result"
    }
   ],
   "source": [
    "# now the text of the job title is inside the tags extracted above\n",
    "# so we will run a loop to iterate over the tags extracted above and extract the text inside them\n",
    "\n",
    "job_titles=[]\n",
    "for i in titles_tags:\n",
    "    job_titles.append(i.text)\n",
    "job_titles"
   ]
  },
  {
   "cell_type": "code",
   "execution_count": 15,
   "metadata": {},
   "outputs": [
    {
     "data": {
      "text/plain": [
       "[<selenium.webdriver.remote.webelement.WebElement (session=\"0c8d3db496f864350bf289916a5e562e\", element=\"e2294fc0-b7fe-42b5-a9da-c6755c9831ff\")>,\n",
       " <selenium.webdriver.remote.webelement.WebElement (session=\"0c8d3db496f864350bf289916a5e562e\", element=\"a53d1b8f-f9ff-4ebb-bbda-186230512c87\")>,\n",
       " <selenium.webdriver.remote.webelement.WebElement (session=\"0c8d3db496f864350bf289916a5e562e\", element=\"84d6992a-e7bc-4f47-8065-cdc7775ebbe3\")>,\n",
       " <selenium.webdriver.remote.webelement.WebElement (session=\"0c8d3db496f864350bf289916a5e562e\", element=\"c4f79686-bb69-43b4-946c-f74fa413158e\")>,\n",
       " <selenium.webdriver.remote.webelement.WebElement (session=\"0c8d3db496f864350bf289916a5e562e\", element=\"cf40aee8-a00c-42c2-990a-98d10390f607\")>,\n",
       " <selenium.webdriver.remote.webelement.WebElement (session=\"0c8d3db496f864350bf289916a5e562e\", element=\"d17e54f4-cde2-4d36-aada-09c00d5486d5\")>,\n",
       " <selenium.webdriver.remote.webelement.WebElement (session=\"0c8d3db496f864350bf289916a5e562e\", element=\"cd55d06c-94f7-4231-b213-c9464e358cf8\")>,\n",
       " <selenium.webdriver.remote.webelement.WebElement (session=\"0c8d3db496f864350bf289916a5e562e\", element=\"4221af58-cbb1-4a05-a9ae-7bdbd481dc43\")>,\n",
       " <selenium.webdriver.remote.webelement.WebElement (session=\"0c8d3db496f864350bf289916a5e562e\", element=\"0c0be8db-a528-41de-bcbc-56ad06e43ddc\")>,\n",
       " <selenium.webdriver.remote.webelement.WebElement (session=\"0c8d3db496f864350bf289916a5e562e\", element=\"98ef51fe-b985-4e42-8466-6fdbc97ee109\")>,\n",
       " <selenium.webdriver.remote.webelement.WebElement (session=\"0c8d3db496f864350bf289916a5e562e\", element=\"efadee8d-95e3-41ed-9d6b-7698727f2368\")>,\n",
       " <selenium.webdriver.remote.webelement.WebElement (session=\"0c8d3db496f864350bf289916a5e562e\", element=\"fb74ee57-c761-4756-aca1-985127bdf297\")>,\n",
       " <selenium.webdriver.remote.webelement.WebElement (session=\"0c8d3db496f864350bf289916a5e562e\", element=\"57ccde98-e75f-4548-86fb-bfe00d6513c6\")>,\n",
       " <selenium.webdriver.remote.webelement.WebElement (session=\"0c8d3db496f864350bf289916a5e562e\", element=\"7f9cc601-5b9c-487e-bcdc-d4147eeb8714\")>,\n",
       " <selenium.webdriver.remote.webelement.WebElement (session=\"0c8d3db496f864350bf289916a5e562e\", element=\"6812dff0-1d7a-4eea-805f-2a9b2a6701da\")>,\n",
       " <selenium.webdriver.remote.webelement.WebElement (session=\"0c8d3db496f864350bf289916a5e562e\", element=\"895b2e71-ee38-458d-a0a5-953d20b9ec09\")>,\n",
       " <selenium.webdriver.remote.webelement.WebElement (session=\"0c8d3db496f864350bf289916a5e562e\", element=\"fb3d387e-a4b5-4bb8-8a78-f5ecc5d4052f\")>,\n",
       " <selenium.webdriver.remote.webelement.WebElement (session=\"0c8d3db496f864350bf289916a5e562e\", element=\"64cb8ad2-07a4-4024-9abc-bc8f7c4fd076\")>,\n",
       " <selenium.webdriver.remote.webelement.WebElement (session=\"0c8d3db496f864350bf289916a5e562e\", element=\"7f8151f4-421b-4fe6-8f79-b4bceb581f80\")>,\n",
       " <selenium.webdriver.remote.webelement.WebElement (session=\"0c8d3db496f864350bf289916a5e562e\", element=\"e8829c3f-71dd-45e7-8db0-98e19ae669d7\")>]"
      ]
     },
     "execution_count": 15,
     "metadata": {},
     "output_type": "execute_result"
    }
   ],
   "source": [
    "companies_tags=driver.find_elements_by_xpath(\"//a[@class='subTitle ellipsis fleft']\")\n",
    "companies_tags"
   ]
  },
  {
   "cell_type": "code",
   "execution_count": 16,
   "metadata": {},
   "outputs": [
    {
     "data": {
      "text/plain": [
       "['Inflexion Analytix Private Limited',\n",
       " 'Wipro',\n",
       " 'Ravgins International Pvt. Ltd.',\n",
       " 'CRESCENDO GLOBAL LEADERSHIP HIRING INDIA PRIVATE L IMITED',\n",
       " 'CRESCENDO GLOBAL LEADERSHIP HIRING INDIA PRIVATE L IMITED',\n",
       " 'Optum Global Solutions (India) Private Limited',\n",
       " 'Blitz Jobs',\n",
       " 'IBM India Pvt. Limited',\n",
       " 'Country Veggie',\n",
       " 'Zenatix Solutions Private Limited',\n",
       " 'iNICU',\n",
       " 'BlackBuck',\n",
       " 'Sentieo',\n",
       " 'Mahajan Imaging',\n",
       " 'Mahajan Imaging',\n",
       " 'Delhivery',\n",
       " 'Mobikwik',\n",
       " 'itForte Staffing Services Private Ltd.',\n",
       " 'Blow Trumpet Solutions',\n",
       " 'Right Step Consulting']"
      ]
     },
     "execution_count": 16,
     "metadata": {},
     "output_type": "execute_result"
    }
   ],
   "source": [
    "company_names=[]\n",
    "for i in companies_tags:\n",
    "    company_names.append(i.text)\n",
    "company_names"
   ]
  },
  {
   "cell_type": "code",
   "execution_count": 17,
   "metadata": {},
   "outputs": [
    {
     "data": {
      "text/plain": [
       "[<selenium.webdriver.remote.webelement.WebElement (session=\"0c8d3db496f864350bf289916a5e562e\", element=\"06804f26-4358-4ad9-b666-3b34cc71088b\")>,\n",
       " <selenium.webdriver.remote.webelement.WebElement (session=\"0c8d3db496f864350bf289916a5e562e\", element=\"2efb2880-4e98-4fb6-9ad2-9292a9c5d19c\")>,\n",
       " <selenium.webdriver.remote.webelement.WebElement (session=\"0c8d3db496f864350bf289916a5e562e\", element=\"e91d0ae7-e5a3-4ea4-88eb-d0743a7e0ed4\")>,\n",
       " <selenium.webdriver.remote.webelement.WebElement (session=\"0c8d3db496f864350bf289916a5e562e\", element=\"c9cde9ac-c761-479b-9bd1-138bf0b2fa8f\")>,\n",
       " <selenium.webdriver.remote.webelement.WebElement (session=\"0c8d3db496f864350bf289916a5e562e\", element=\"efed2714-204d-4ccd-b7a6-06001a0b65ab\")>,\n",
       " <selenium.webdriver.remote.webelement.WebElement (session=\"0c8d3db496f864350bf289916a5e562e\", element=\"ff5c1a15-8f8b-48fd-9303-518c27d2b393\")>,\n",
       " <selenium.webdriver.remote.webelement.WebElement (session=\"0c8d3db496f864350bf289916a5e562e\", element=\"2b33f10e-5fc3-4e32-80f9-e14127f3e768\")>,\n",
       " <selenium.webdriver.remote.webelement.WebElement (session=\"0c8d3db496f864350bf289916a5e562e\", element=\"6ed19fb3-7e23-4cf9-b27f-9f876f0e1bd3\")>,\n",
       " <selenium.webdriver.remote.webelement.WebElement (session=\"0c8d3db496f864350bf289916a5e562e\", element=\"c6ae93b9-7ed7-4d1a-8305-a9dbc7af445c\")>,\n",
       " <selenium.webdriver.remote.webelement.WebElement (session=\"0c8d3db496f864350bf289916a5e562e\", element=\"ab7e289e-d0cc-4c19-9df3-9e4ebf0b38b0\")>,\n",
       " <selenium.webdriver.remote.webelement.WebElement (session=\"0c8d3db496f864350bf289916a5e562e\", element=\"3b9cfc4e-18f0-4317-a5a1-04ed58083104\")>,\n",
       " <selenium.webdriver.remote.webelement.WebElement (session=\"0c8d3db496f864350bf289916a5e562e\", element=\"55148501-3e13-4173-adbe-b4d006085ab0\")>,\n",
       " <selenium.webdriver.remote.webelement.WebElement (session=\"0c8d3db496f864350bf289916a5e562e\", element=\"6f5c2b51-24dc-4456-9606-e109c5c431c0\")>,\n",
       " <selenium.webdriver.remote.webelement.WebElement (session=\"0c8d3db496f864350bf289916a5e562e\", element=\"7a4d5452-89cf-40b5-9f3f-cc047db46ddb\")>,\n",
       " <selenium.webdriver.remote.webelement.WebElement (session=\"0c8d3db496f864350bf289916a5e562e\", element=\"61f259bd-c845-4bab-9622-e897ab779004\")>,\n",
       " <selenium.webdriver.remote.webelement.WebElement (session=\"0c8d3db496f864350bf289916a5e562e\", element=\"1b27ae87-3cf8-4bf6-812d-674c75e022e2\")>,\n",
       " <selenium.webdriver.remote.webelement.WebElement (session=\"0c8d3db496f864350bf289916a5e562e\", element=\"57027ec5-3306-4e52-9fc6-1f6d0ac33296\")>,\n",
       " <selenium.webdriver.remote.webelement.WebElement (session=\"0c8d3db496f864350bf289916a5e562e\", element=\"ef3306d7-bdd2-49a4-b0b5-cd6244b0fdbf\")>,\n",
       " <selenium.webdriver.remote.webelement.WebElement (session=\"0c8d3db496f864350bf289916a5e562e\", element=\"f7178fdc-1b5b-4704-92d4-65350b62213d\")>,\n",
       " <selenium.webdriver.remote.webelement.WebElement (session=\"0c8d3db496f864350bf289916a5e562e\", element=\"d1f2ce26-005a-43be-9eb0-a6ceb4fe7a80\")>]"
      ]
     },
     "execution_count": 17,
     "metadata": {},
     "output_type": "execute_result"
    }
   ],
   "source": [
    "job_exp=driver.find_elements_by_xpath(\"//li[@class='fleft grey-text br2 placeHolderLi experience']\")\n",
    "job_exp"
   ]
  },
  {
   "cell_type": "code",
   "execution_count": 18,
   "metadata": {},
   "outputs": [
    {
     "data": {
      "text/plain": [
       "['0-3 Yrs',\n",
       " '2-5 Yrs',\n",
       " '3-5 Yrs',\n",
       " '3-6 Yrs',\n",
       " '3-6 Yrs',\n",
       " '3-5 Yrs',\n",
       " '3-5 Yrs',\n",
       " '4-9 Yrs',\n",
       " '1-3 Yrs',\n",
       " '5-10 Yrs',\n",
       " '1-5 Yrs',\n",
       " '3-7 Yrs',\n",
       " '2-7 Yrs',\n",
       " '2-6 Yrs',\n",
       " '2-6 Yrs',\n",
       " '1-3 Yrs',\n",
       " '3-5 Yrs',\n",
       " '3-8 Yrs',\n",
       " '1-5 Yrs',\n",
       " '3-6 Yrs']"
      ]
     },
     "execution_count": 18,
     "metadata": {},
     "output_type": "execute_result"
    }
   ],
   "source": [
    "job_experience=[]\n",
    "for i in job_exp:\n",
    "    job_experience.append(i.text)\n",
    "job_experience"
   ]
  },
  {
   "cell_type": "code",
   "execution_count": 19,
   "metadata": {},
   "outputs": [
    {
     "data": {
      "text/plain": [
       "[<selenium.webdriver.remote.webelement.WebElement (session=\"0c8d3db496f864350bf289916a5e562e\", element=\"ec629099-4012-42ad-82e2-3d5732e53b26\")>,\n",
       " <selenium.webdriver.remote.webelement.WebElement (session=\"0c8d3db496f864350bf289916a5e562e\", element=\"a76aaabb-9d48-44b4-b457-bb6bff2ac93a\")>,\n",
       " <selenium.webdriver.remote.webelement.WebElement (session=\"0c8d3db496f864350bf289916a5e562e\", element=\"f6b1e48c-a877-4a82-807d-da1191fd4501\")>,\n",
       " <selenium.webdriver.remote.webelement.WebElement (session=\"0c8d3db496f864350bf289916a5e562e\", element=\"96d266e8-164e-4d86-94de-432a78c9d796\")>,\n",
       " <selenium.webdriver.remote.webelement.WebElement (session=\"0c8d3db496f864350bf289916a5e562e\", element=\"839e20bc-4d4c-490c-b03f-e85c41fcc9cd\")>,\n",
       " <selenium.webdriver.remote.webelement.WebElement (session=\"0c8d3db496f864350bf289916a5e562e\", element=\"a2a092f5-b16f-4ba4-a004-aa3d5621fd5f\")>,\n",
       " <selenium.webdriver.remote.webelement.WebElement (session=\"0c8d3db496f864350bf289916a5e562e\", element=\"91968be8-3044-4d1a-8ea1-e7f138c36463\")>,\n",
       " <selenium.webdriver.remote.webelement.WebElement (session=\"0c8d3db496f864350bf289916a5e562e\", element=\"13257f99-7e20-4a1d-b392-7e59ccb0013c\")>,\n",
       " <selenium.webdriver.remote.webelement.WebElement (session=\"0c8d3db496f864350bf289916a5e562e\", element=\"683ef58d-f565-4694-b8f4-6dbd6612f0fe\")>,\n",
       " <selenium.webdriver.remote.webelement.WebElement (session=\"0c8d3db496f864350bf289916a5e562e\", element=\"5986afc1-9eda-43ed-b6ab-7ef7958e1d0d\")>,\n",
       " <selenium.webdriver.remote.webelement.WebElement (session=\"0c8d3db496f864350bf289916a5e562e\", element=\"b676fd2b-1ac1-43cd-ba92-e37db75fee3c\")>,\n",
       " <selenium.webdriver.remote.webelement.WebElement (session=\"0c8d3db496f864350bf289916a5e562e\", element=\"c3e082e6-35c1-464a-b986-9a1002ed8f8c\")>,\n",
       " <selenium.webdriver.remote.webelement.WebElement (session=\"0c8d3db496f864350bf289916a5e562e\", element=\"8d7d198b-e10c-4ffb-bbe5-12bb1c5dad08\")>,\n",
       " <selenium.webdriver.remote.webelement.WebElement (session=\"0c8d3db496f864350bf289916a5e562e\", element=\"f89ec986-f665-4953-a3bb-0b7c06ba0f36\")>,\n",
       " <selenium.webdriver.remote.webelement.WebElement (session=\"0c8d3db496f864350bf289916a5e562e\", element=\"75c9ecd6-2955-414c-a667-d8d10caa131e\")>,\n",
       " <selenium.webdriver.remote.webelement.WebElement (session=\"0c8d3db496f864350bf289916a5e562e\", element=\"0c754f26-8ff2-450b-96c6-f13afda7150d\")>,\n",
       " <selenium.webdriver.remote.webelement.WebElement (session=\"0c8d3db496f864350bf289916a5e562e\", element=\"65b615ff-3420-4da2-ab22-cc06f05c8d12\")>,\n",
       " <selenium.webdriver.remote.webelement.WebElement (session=\"0c8d3db496f864350bf289916a5e562e\", element=\"e818c849-2e92-495e-b211-013c2f40c40d\")>,\n",
       " <selenium.webdriver.remote.webelement.WebElement (session=\"0c8d3db496f864350bf289916a5e562e\", element=\"0384c198-f663-47ec-a975-8dde6bf4c276\")>,\n",
       " <selenium.webdriver.remote.webelement.WebElement (session=\"0c8d3db496f864350bf289916a5e562e\", element=\"4facfb01-f89c-419c-9210-bd79ee8b14dc\")>]"
      ]
     },
     "execution_count": 19,
     "metadata": {},
     "output_type": "execute_result"
    }
   ],
   "source": [
    "locations_tags=driver.find_elements_by_xpath(\"//li[@class='fleft grey-text br2 placeHolderLi location']\")\n",
    "locations_tags"
   ]
  },
  {
   "cell_type": "code",
   "execution_count": 20,
   "metadata": {},
   "outputs": [
    {
     "data": {
      "text/plain": [
       "['Mumbai, Hyderabad/Secunderabad, Pune, Gurgaon/Gurugram, Chennai, Bangalore/Bengaluru',\n",
       " 'Noida, Gurgaon/Gurugram',\n",
       " 'Bangalore/Bengaluru, Delhi / NCR, Mumbai (All Areas)',\n",
       " 'Gurgaon/Gurugram, Delhi / NCR',\n",
       " 'Gurgaon/Gurugram, Delhi / NCR',\n",
       " 'Noida',\n",
       " 'Noida',\n",
       " 'Noida, Hyderabad/Secunderabad, Bangalore/Bengaluru',\n",
       " 'Bharuch, Jaipur, Bhopal, Mumbai, Jhansi, Nagpur, Ghaziabad, Jaunpur, Kanpur, New Delhi, Lucknow, Agra, Gurgaon/Gurugram, Rajkot, Bangalore/Bengaluru',\n",
       " 'Gurgaon/Gurugram',\n",
       " 'Delhi',\n",
       " 'Gurgaon/Gurugram, Bangalore/Bengaluru',\n",
       " 'Delhi',\n",
       " 'New Delhi',\n",
       " 'Delhi',\n",
       " 'Gurgaon/Gurugram',\n",
       " 'New Delhi, Gurgaon/Gurugram, Delhi / NCR',\n",
       " 'Gurgaon',\n",
       " 'New Delhi',\n",
       " 'Noida']"
      ]
     },
     "execution_count": 20,
     "metadata": {},
     "output_type": "execute_result"
    }
   ],
   "source": [
    "locations_list=[]\n",
    "for i in locations_tags:\n",
    "    locations_list.append(i.text)\n",
    "locations_list"
   ]
  },
  {
   "cell_type": "code",
   "execution_count": 21,
   "metadata": {},
   "outputs": [
    {
     "data": {
      "text/html": [
       "<div>\n",
       "<style scoped>\n",
       "    .dataframe tbody tr th:only-of-type {\n",
       "        vertical-align: middle;\n",
       "    }\n",
       "\n",
       "    .dataframe tbody tr th {\n",
       "        vertical-align: top;\n",
       "    }\n",
       "\n",
       "    .dataframe thead th {\n",
       "        text-align: right;\n",
       "    }\n",
       "</style>\n",
       "<table border=\"1\" class=\"dataframe\">\n",
       "  <thead>\n",
       "    <tr style=\"text-align: right;\">\n",
       "      <th></th>\n",
       "      <th>title</th>\n",
       "      <th>company</th>\n",
       "      <th>job experience</th>\n",
       "      <th>location</th>\n",
       "    </tr>\n",
       "  </thead>\n",
       "  <tbody>\n",
       "    <tr>\n",
       "      <th>0</th>\n",
       "      <td>Data Scientist / Data Analyst -Business Analyst</td>\n",
       "      <td>Inflexion Analytix Private Limited</td>\n",
       "      <td>0-3 Yrs</td>\n",
       "      <td>Mumbai, Hyderabad/Secunderabad, Pune, Gurgaon/...</td>\n",
       "    </tr>\n",
       "    <tr>\n",
       "      <th>1</th>\n",
       "      <td>Business Analyst- Data Scientist</td>\n",
       "      <td>Wipro</td>\n",
       "      <td>2-5 Yrs</td>\n",
       "      <td>Noida, Gurgaon/Gurugram</td>\n",
       "    </tr>\n",
       "    <tr>\n",
       "      <th>2</th>\n",
       "      <td>Data Scientist - High growth VC backed Influen...</td>\n",
       "      <td>Ravgins International Pvt. Ltd.</td>\n",
       "      <td>3-5 Yrs</td>\n",
       "      <td>Bangalore/Bengaluru, Delhi / NCR, Mumbai (All ...</td>\n",
       "    </tr>\n",
       "    <tr>\n",
       "      <th>3</th>\n",
       "      <td>DATA Scientist – Gurgaon (Exp 3-6 years)</td>\n",
       "      <td>CRESCENDO GLOBAL LEADERSHIP HIRING INDIA PRIVA...</td>\n",
       "      <td>3-6 Yrs</td>\n",
       "      <td>Gurgaon/Gurugram, Delhi / NCR</td>\n",
       "    </tr>\n",
       "    <tr>\n",
       "      <th>4</th>\n",
       "      <td>DATA Scientist – Gurgaon (Exp 3-6 years)</td>\n",
       "      <td>CRESCENDO GLOBAL LEADERSHIP HIRING INDIA PRIVA...</td>\n",
       "      <td>3-6 Yrs</td>\n",
       "      <td>Gurgaon/Gurugram, Delhi / NCR</td>\n",
       "    </tr>\n",
       "    <tr>\n",
       "      <th>5</th>\n",
       "      <td>Data Scientist - Noida</td>\n",
       "      <td>Optum Global Solutions (India) Private Limited</td>\n",
       "      <td>3-5 Yrs</td>\n",
       "      <td>Noida</td>\n",
       "    </tr>\n",
       "    <tr>\n",
       "      <th>6</th>\n",
       "      <td>Data Scientist</td>\n",
       "      <td>Blitz Jobs</td>\n",
       "      <td>3-5 Yrs</td>\n",
       "      <td>Noida</td>\n",
       "    </tr>\n",
       "    <tr>\n",
       "      <th>7</th>\n",
       "      <td>Data Scientist</td>\n",
       "      <td>IBM India Pvt. Limited</td>\n",
       "      <td>4-9 Yrs</td>\n",
       "      <td>Noida, Hyderabad/Secunderabad, Bangalore/Benga...</td>\n",
       "    </tr>\n",
       "    <tr>\n",
       "      <th>8</th>\n",
       "      <td>Data Scientist</td>\n",
       "      <td>Country Veggie</td>\n",
       "      <td>1-3 Yrs</td>\n",
       "      <td>Bharuch, Jaipur, Bhopal, Mumbai, Jhansi, Nagpu...</td>\n",
       "    </tr>\n",
       "    <tr>\n",
       "      <th>9</th>\n",
       "      <td>Senior Data Scientist II 5+ yrs II Gurgaon</td>\n",
       "      <td>Zenatix Solutions Private Limited</td>\n",
       "      <td>5-10 Yrs</td>\n",
       "      <td>Gurgaon/Gurugram</td>\n",
       "    </tr>\n",
       "  </tbody>\n",
       "</table>\n",
       "</div>"
      ],
      "text/plain": [
       "                                               title  \\\n",
       "0    Data Scientist / Data Analyst -Business Analyst   \n",
       "1                   Business Analyst- Data Scientist   \n",
       "2  Data Scientist - High growth VC backed Influen...   \n",
       "3           DATA Scientist – Gurgaon (Exp 3-6 years)   \n",
       "4           DATA Scientist – Gurgaon (Exp 3-6 years)   \n",
       "5                             Data Scientist - Noida   \n",
       "6                                     Data Scientist   \n",
       "7                                     Data Scientist   \n",
       "8                                     Data Scientist   \n",
       "9         Senior Data Scientist II 5+ yrs II Gurgaon   \n",
       "\n",
       "                                             company job experience  \\\n",
       "0                 Inflexion Analytix Private Limited        0-3 Yrs   \n",
       "1                                              Wipro        2-5 Yrs   \n",
       "2                    Ravgins International Pvt. Ltd.        3-5 Yrs   \n",
       "3  CRESCENDO GLOBAL LEADERSHIP HIRING INDIA PRIVA...        3-6 Yrs   \n",
       "4  CRESCENDO GLOBAL LEADERSHIP HIRING INDIA PRIVA...        3-6 Yrs   \n",
       "5     Optum Global Solutions (India) Private Limited        3-5 Yrs   \n",
       "6                                         Blitz Jobs        3-5 Yrs   \n",
       "7                             IBM India Pvt. Limited        4-9 Yrs   \n",
       "8                                     Country Veggie        1-3 Yrs   \n",
       "9                  Zenatix Solutions Private Limited       5-10 Yrs   \n",
       "\n",
       "                                            location  \n",
       "0  Mumbai, Hyderabad/Secunderabad, Pune, Gurgaon/...  \n",
       "1                            Noida, Gurgaon/Gurugram  \n",
       "2  Bangalore/Bengaluru, Delhi / NCR, Mumbai (All ...  \n",
       "3                      Gurgaon/Gurugram, Delhi / NCR  \n",
       "4                      Gurgaon/Gurugram, Delhi / NCR  \n",
       "5                                              Noida  \n",
       "6                                              Noida  \n",
       "7  Noida, Hyderabad/Secunderabad, Bangalore/Benga...  \n",
       "8  Bharuch, Jaipur, Bhopal, Mumbai, Jhansi, Nagpu...  \n",
       "9                                   Gurgaon/Gurugram  "
      ]
     },
     "execution_count": 21,
     "metadata": {},
     "output_type": "execute_result"
    }
   ],
   "source": [
    "import pandas as pd\n",
    "jobs=pd.DataFrame({})\n",
    "jobs['title']=job_titles[:10]\n",
    "jobs['company']=company_names[:10]\n",
    "jobs['job experience']=job_experience[:10]\n",
    "jobs['location']=locations_list[:10]\n",
    "jobs"
   ]
  },
  {
   "cell_type": "code",
   "execution_count": null,
   "metadata": {},
   "outputs": [],
   "source": []
  },
  {
   "cell_type": "code",
   "execution_count": null,
   "metadata": {},
   "outputs": [],
   "source": []
  },
  {
   "cell_type": "code",
   "execution_count": null,
   "metadata": {},
   "outputs": [],
   "source": []
  }
 ],
 "metadata": {
  "kernelspec": {
   "display_name": "Python 3",
   "language": "python",
   "name": "python3"
  },
  "language_info": {
   "codemirror_mode": {
    "name": "ipython",
    "version": 3
   },
   "file_extension": ".py",
   "mimetype": "text/x-python",
   "name": "python",
   "nbconvert_exporter": "python",
   "pygments_lexer": "ipython3",
   "version": "3.8.3"
  }
 },
 "nbformat": 4,
 "nbformat_minor": 4
}
