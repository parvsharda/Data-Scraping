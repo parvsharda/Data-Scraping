{
 "cells": [
  {
   "cell_type": "code",
   "execution_count": 1,
   "metadata": {},
   "outputs": [],
   "source": [
    "import selenium\n",
    "import pandas as pd\n",
    "from selenium import webdriver"
   ]
  },
  {
   "cell_type": "code",
   "execution_count": 2,
   "metadata": {},
   "outputs": [],
   "source": [
    "driver=webdriver.Chrome('chromedriver.exe')"
   ]
  },
  {
   "cell_type": "code",
   "execution_count": 3,
   "metadata": {},
   "outputs": [],
   "source": [
    "url='https://www.glassdoor.co.in/Salaries/new-delhi-data-scientist-salary-SRCH_IL.0,9_IM1083_KO10,24.htm?clickSource=searchBtn'\n",
    "driver.get(url)"
   ]
  },
  {
   "cell_type": "code",
   "execution_count": 14,
   "metadata": {},
   "outputs": [
    {
     "data": {
      "text/plain": [
       "[<selenium.webdriver.remote.webelement.WebElement (session=\"7f0e03c1e9ecc871c3b519c3f3ad35df\", element=\"d8a56ad6-b43f-4a27-9602-fa05c5e32fd7\")>,\n",
       " <selenium.webdriver.remote.webelement.WebElement (session=\"7f0e03c1e9ecc871c3b519c3f3ad35df\", element=\"df1f5dde-c228-4ff1-991d-a5d441f2c962\")>,\n",
       " <selenium.webdriver.remote.webelement.WebElement (session=\"7f0e03c1e9ecc871c3b519c3f3ad35df\", element=\"b0e42592-2b5c-42c4-9c86-a01a522282f4\")>,\n",
       " <selenium.webdriver.remote.webelement.WebElement (session=\"7f0e03c1e9ecc871c3b519c3f3ad35df\", element=\"45da1f95-5076-4547-b310-430468f7c125\")>,\n",
       " <selenium.webdriver.remote.webelement.WebElement (session=\"7f0e03c1e9ecc871c3b519c3f3ad35df\", element=\"559359cc-6385-437b-b9e1-767a318a3cca\")>,\n",
       " <selenium.webdriver.remote.webelement.WebElement (session=\"7f0e03c1e9ecc871c3b519c3f3ad35df\", element=\"50e15188-a8f4-42fc-b530-cf69e69b3983\")>,\n",
       " <selenium.webdriver.remote.webelement.WebElement (session=\"7f0e03c1e9ecc871c3b519c3f3ad35df\", element=\"fc4eba15-3370-41c6-8067-235b05d41fad\")>,\n",
       " <selenium.webdriver.remote.webelement.WebElement (session=\"7f0e03c1e9ecc871c3b519c3f3ad35df\", element=\"37213d4c-271d-400d-8aae-c3c9a91249f5\")>,\n",
       " <selenium.webdriver.remote.webelement.WebElement (session=\"7f0e03c1e9ecc871c3b519c3f3ad35df\", element=\"8ae36bbf-3556-4b8c-bda1-3625189435b3\")>,\n",
       " <selenium.webdriver.remote.webelement.WebElement (session=\"7f0e03c1e9ecc871c3b519c3f3ad35df\", element=\"d209fff7-11b1-4740-8e95-ebdf10dc3862\")>,\n",
       " <selenium.webdriver.remote.webelement.WebElement (session=\"7f0e03c1e9ecc871c3b519c3f3ad35df\", element=\"263ef478-821d-48c6-9d30-a79025bd0633\")>,\n",
       " <selenium.webdriver.remote.webelement.WebElement (session=\"7f0e03c1e9ecc871c3b519c3f3ad35df\", element=\"0aa3db65-69ef-4090-affd-da18473d1176\")>,\n",
       " <selenium.webdriver.remote.webelement.WebElement (session=\"7f0e03c1e9ecc871c3b519c3f3ad35df\", element=\"5c07395c-fc95-47d0-80e2-9d1fd18cacfa\")>,\n",
       " <selenium.webdriver.remote.webelement.WebElement (session=\"7f0e03c1e9ecc871c3b519c3f3ad35df\", element=\"9c8a7adf-0d9d-44bb-b1b0-fcc95a2d0efb\")>,\n",
       " <selenium.webdriver.remote.webelement.WebElement (session=\"7f0e03c1e9ecc871c3b519c3f3ad35df\", element=\"283d4300-aedc-4d0b-b833-d3f37802035d\")>,\n",
       " <selenium.webdriver.remote.webelement.WebElement (session=\"7f0e03c1e9ecc871c3b519c3f3ad35df\", element=\"0748a36e-5303-446c-8441-2b15f55b77e8\")>,\n",
       " <selenium.webdriver.remote.webelement.WebElement (session=\"7f0e03c1e9ecc871c3b519c3f3ad35df\", element=\"ea74c454-b162-4eef-88ff-148f0539727f\")>,\n",
       " <selenium.webdriver.remote.webelement.WebElement (session=\"7f0e03c1e9ecc871c3b519c3f3ad35df\", element=\"4c9a4a04-e5b5-4e3c-a59a-dae545f28fcf\")>,\n",
       " <selenium.webdriver.remote.webelement.WebElement (session=\"7f0e03c1e9ecc871c3b519c3f3ad35df\", element=\"05386679-b737-4d82-80ba-cc292383270b\")>,\n",
       " <selenium.webdriver.remote.webelement.WebElement (session=\"7f0e03c1e9ecc871c3b519c3f3ad35df\", element=\"55137385-9fea-4c26-a58c-f82209fcb3b9\")>]"
      ]
     },
     "execution_count": 14,
     "metadata": {},
     "output_type": "execute_result"
    }
   ],
   "source": [
    "title_tags=driver.find_elements_by_xpath(\"//a[@class='css-f3vw95 e1aj7ssy3']\")\n",
    "title_tags"
   ]
  },
  {
   "cell_type": "code",
   "execution_count": 15,
   "metadata": {},
   "outputs": [
    {
     "data": {
      "text/plain": [
       "['Tata Consultancy Services',\n",
       " 'IBM',\n",
       " 'Accenture',\n",
       " 'Ericsson-Worldwide',\n",
       " 'Delhivery',\n",
       " 'UnitedHealth Group',\n",
       " 'Valiance Solutions',\n",
       " 'ZS Associates',\n",
       " 'EXL Service',\n",
       " 'Optum Global Solutions',\n",
       " 'Innovaccer',\n",
       " 'Cognizant Technology Solutions',\n",
       " 'Optum',\n",
       " 'Tech Mahindra',\n",
       " 'OYO',\n",
       " 'Nagarro',\n",
       " 'dunnhumby',\n",
       " 'Vidooly Media Tech',\n",
       " 'Algo8.ai',\n",
       " 'Amazon']"
      ]
     },
     "execution_count": 15,
     "metadata": {},
     "output_type": "execute_result"
    }
   ],
   "source": [
    "Company_titles=[]\n",
    "for i in title_tags:\n",
    "    Company_titles.append(i.text)\n",
    "Company_titles"
   ]
  },
  {
   "cell_type": "code",
   "execution_count": 21,
   "metadata": {},
   "outputs": [
    {
     "data": {
      "text/plain": [
       "[<selenium.webdriver.remote.webelement.WebElement (session=\"7f0e03c1e9ecc871c3b519c3f3ad35df\", element=\"2edb9298-a078-41b5-9a01-4889bb29c2e8\")>,\n",
       " <selenium.webdriver.remote.webelement.WebElement (session=\"7f0e03c1e9ecc871c3b519c3f3ad35df\", element=\"1c296320-c992-4960-9f52-096cd5461812\")>,\n",
       " <selenium.webdriver.remote.webelement.WebElement (session=\"7f0e03c1e9ecc871c3b519c3f3ad35df\", element=\"94c06755-51a0-42a7-93b1-08cb54c5b53b\")>,\n",
       " <selenium.webdriver.remote.webelement.WebElement (session=\"7f0e03c1e9ecc871c3b519c3f3ad35df\", element=\"5c1aedea-fbdf-40a2-accb-9ccad993ed3a\")>,\n",
       " <selenium.webdriver.remote.webelement.WebElement (session=\"7f0e03c1e9ecc871c3b519c3f3ad35df\", element=\"4a0141bf-de58-4c5d-9802-1f9466e3d164\")>,\n",
       " <selenium.webdriver.remote.webelement.WebElement (session=\"7f0e03c1e9ecc871c3b519c3f3ad35df\", element=\"d5fe89c2-886f-47cb-af70-be85be47a3cd\")>,\n",
       " <selenium.webdriver.remote.webelement.WebElement (session=\"7f0e03c1e9ecc871c3b519c3f3ad35df\", element=\"25cdb8d1-5031-4bac-b920-e0675c7768a3\")>,\n",
       " <selenium.webdriver.remote.webelement.WebElement (session=\"7f0e03c1e9ecc871c3b519c3f3ad35df\", element=\"07798462-2c1c-4105-b0f1-52be4f26da37\")>,\n",
       " <selenium.webdriver.remote.webelement.WebElement (session=\"7f0e03c1e9ecc871c3b519c3f3ad35df\", element=\"3b50603a-45c3-463c-9d92-8f31bdfd6317\")>,\n",
       " <selenium.webdriver.remote.webelement.WebElement (session=\"7f0e03c1e9ecc871c3b519c3f3ad35df\", element=\"c47b233b-2419-44ca-a363-45f04ff175a8\")>,\n",
       " <selenium.webdriver.remote.webelement.WebElement (session=\"7f0e03c1e9ecc871c3b519c3f3ad35df\", element=\"419563fb-d328-48d3-a2e6-35ee4731a095\")>,\n",
       " <selenium.webdriver.remote.webelement.WebElement (session=\"7f0e03c1e9ecc871c3b519c3f3ad35df\", element=\"55bd0163-2570-4091-8cd1-e59cff8caa88\")>,\n",
       " <selenium.webdriver.remote.webelement.WebElement (session=\"7f0e03c1e9ecc871c3b519c3f3ad35df\", element=\"27b9855b-4109-4c02-8980-7dbb35c088ed\")>,\n",
       " <selenium.webdriver.remote.webelement.WebElement (session=\"7f0e03c1e9ecc871c3b519c3f3ad35df\", element=\"44b930c3-5768-4d38-9b62-2b9d2c2bec9b\")>,\n",
       " <selenium.webdriver.remote.webelement.WebElement (session=\"7f0e03c1e9ecc871c3b519c3f3ad35df\", element=\"ae9dbf62-5f78-4157-bf8c-715e85e60e07\")>,\n",
       " <selenium.webdriver.remote.webelement.WebElement (session=\"7f0e03c1e9ecc871c3b519c3f3ad35df\", element=\"b0156bab-ea2c-4b06-aee1-ffbe67b54f10\")>,\n",
       " <selenium.webdriver.remote.webelement.WebElement (session=\"7f0e03c1e9ecc871c3b519c3f3ad35df\", element=\"0372986e-931e-43e1-8730-d44fe0883beb\")>,\n",
       " <selenium.webdriver.remote.webelement.WebElement (session=\"7f0e03c1e9ecc871c3b519c3f3ad35df\", element=\"7856f01e-6ad3-43ea-8633-e82b094b3dc7\")>,\n",
       " <selenium.webdriver.remote.webelement.WebElement (session=\"7f0e03c1e9ecc871c3b519c3f3ad35df\", element=\"faf1c55e-b847-4306-bfab-0888b0ae023a\")>,\n",
       " <selenium.webdriver.remote.webelement.WebElement (session=\"7f0e03c1e9ecc871c3b519c3f3ad35df\", element=\"17d15cc8-aed6-4532-9cc4-714c6f13431a\")>]"
      ]
     },
     "execution_count": 21,
     "metadata": {},
     "output_type": "execute_result"
    }
   ],
   "source": [
    "Number_salary=driver.find_elements_by_xpath(\"//div[@class='col-12 col-lg-auto']\")\n",
    "Number_salary"
   ]
  },
  {
   "cell_type": "code",
   "execution_count": 22,
   "metadata": {},
   "outputs": [
    {
     "data": {
      "text/plain": [
       "['17 salaries',\n",
       " '15 salaries',\n",
       " '14 salaries',\n",
       " '14 salaries',\n",
       " '14 salaries',\n",
       " '11 salaries',\n",
       " '9 salaries',\n",
       " '8 salaries',\n",
       " '8 salaries',\n",
       " '8 salaries',\n",
       " '8 salaries',\n",
       " '6 salaries',\n",
       " '6 salaries',\n",
       " '5 salaries',\n",
       " '5 salaries',\n",
       " '5 salaries',\n",
       " '5 salaries',\n",
       " '5 salaries',\n",
       " '5 salaries',\n",
       " '4 salaries']"
      ]
     },
     "execution_count": 22,
     "metadata": {},
     "output_type": "execute_result"
    }
   ],
   "source": [
    "Number_Salary=[]\n",
    "for i in Number_salary:\n",
    "    Number_Salary.append(i.text)\n",
    "Number_Salary"
   ]
  },
  {
   "cell_type": "code",
   "execution_count": 27,
   "metadata": {},
   "outputs": [
    {
     "data": {
      "text/plain": [
       "[<selenium.webdriver.remote.webelement.WebElement (session=\"7f0e03c1e9ecc871c3b519c3f3ad35df\", element=\"f80cacef-b06c-4d58-96e6-2a0b32d3eeb0\")>,\n",
       " <selenium.webdriver.remote.webelement.WebElement (session=\"7f0e03c1e9ecc871c3b519c3f3ad35df\", element=\"58d7a1ea-89fc-4205-9ddf-91ddd95f89d7\")>,\n",
       " <selenium.webdriver.remote.webelement.WebElement (session=\"7f0e03c1e9ecc871c3b519c3f3ad35df\", element=\"ddc52a69-f226-4460-a8d6-bc18f41d6c27\")>,\n",
       " <selenium.webdriver.remote.webelement.WebElement (session=\"7f0e03c1e9ecc871c3b519c3f3ad35df\", element=\"8b082036-aaea-4b9c-a842-a5d018ff2579\")>,\n",
       " <selenium.webdriver.remote.webelement.WebElement (session=\"7f0e03c1e9ecc871c3b519c3f3ad35df\", element=\"3b55be99-181d-42ac-9d40-e00744ebb4b8\")>,\n",
       " <selenium.webdriver.remote.webelement.WebElement (session=\"7f0e03c1e9ecc871c3b519c3f3ad35df\", element=\"537898e3-166c-46c1-a6e3-475f52a37171\")>,\n",
       " <selenium.webdriver.remote.webelement.WebElement (session=\"7f0e03c1e9ecc871c3b519c3f3ad35df\", element=\"745af6d4-672f-4dfe-ad72-017f894c568d\")>,\n",
       " <selenium.webdriver.remote.webelement.WebElement (session=\"7f0e03c1e9ecc871c3b519c3f3ad35df\", element=\"2463ad00-a75f-4ba4-9113-75c849209d7c\")>,\n",
       " <selenium.webdriver.remote.webelement.WebElement (session=\"7f0e03c1e9ecc871c3b519c3f3ad35df\", element=\"4d052b78-ecb2-4893-9f54-97e30e3383af\")>,\n",
       " <selenium.webdriver.remote.webelement.WebElement (session=\"7f0e03c1e9ecc871c3b519c3f3ad35df\", element=\"232702df-7dd5-480c-8445-27a6398d6a95\")>,\n",
       " <selenium.webdriver.remote.webelement.WebElement (session=\"7f0e03c1e9ecc871c3b519c3f3ad35df\", element=\"6bbd6900-3d6c-4858-a6e1-42bfaab178fa\")>,\n",
       " <selenium.webdriver.remote.webelement.WebElement (session=\"7f0e03c1e9ecc871c3b519c3f3ad35df\", element=\"441d9e8a-d4d1-4ec1-8255-6e4d27fd02c0\")>,\n",
       " <selenium.webdriver.remote.webelement.WebElement (session=\"7f0e03c1e9ecc871c3b519c3f3ad35df\", element=\"ed98a73e-4352-4bbc-8cc1-9352a33f02db\")>,\n",
       " <selenium.webdriver.remote.webelement.WebElement (session=\"7f0e03c1e9ecc871c3b519c3f3ad35df\", element=\"866fe375-ab54-4209-87a5-a2a98a58d59c\")>,\n",
       " <selenium.webdriver.remote.webelement.WebElement (session=\"7f0e03c1e9ecc871c3b519c3f3ad35df\", element=\"4892b604-9c10-4e01-9afe-a2ec72659ca7\")>,\n",
       " <selenium.webdriver.remote.webelement.WebElement (session=\"7f0e03c1e9ecc871c3b519c3f3ad35df\", element=\"cccff308-4a6c-4367-aab1-e86bc9b20798\")>,\n",
       " <selenium.webdriver.remote.webelement.WebElement (session=\"7f0e03c1e9ecc871c3b519c3f3ad35df\", element=\"3a39196d-b15f-4eb0-b1cc-b833d60670bb\")>,\n",
       " <selenium.webdriver.remote.webelement.WebElement (session=\"7f0e03c1e9ecc871c3b519c3f3ad35df\", element=\"53bba2d6-9825-4a71-835d-682418ed000d\")>,\n",
       " <selenium.webdriver.remote.webelement.WebElement (session=\"7f0e03c1e9ecc871c3b519c3f3ad35df\", element=\"cb94ee97-fe13-44ec-9926-a0ed4ee9e092\")>,\n",
       " <selenium.webdriver.remote.webelement.WebElement (session=\"7f0e03c1e9ecc871c3b519c3f3ad35df\", element=\"ac296ce6-71d1-4be5-a786-ce10cda4f736\")>]"
      ]
     },
     "execution_count": 27,
     "metadata": {},
     "output_type": "execute_result"
    }
   ],
   "source": [
    "AVG_salary=driver.find_elements_by_xpath(\"//div[@class='col-12 col-lg-4 px-lg-0 d-flex align-items-baseline']\")\n",
    "AVG_salary"
   ]
  },
  {
   "cell_type": "code",
   "execution_count": 28,
   "metadata": {},
   "outputs": [
    {
     "data": {
      "text/plain": [
       "['₹ 6,14,306\\n /yr',\n",
       " '₹ 9,00,000\\n /yr',\n",
       " '₹ 11,46,533\\n /yr',\n",
       " '₹ 7,38,057\\n /yr',\n",
       " '₹ 12,39,781\\n /yr',\n",
       " '₹ 13,36,142\\n /yr',\n",
       " '₹ 8,15,192\\n /yr',\n",
       " '₹ 11,35,221\\n /yr',\n",
       " '₹ 11,44,243\\n /yr',\n",
       " '₹ 14,13,288\\n /yr',\n",
       " '₹ 12,07,110\\n /yr',\n",
       " '₹ 10,07,410\\n /yr',\n",
       " '₹ 13,18,851\\n /yr',\n",
       " '₹ 10,52,718\\n /yr',\n",
       " '₹ 14,13,078\\n /yr',\n",
       " '₹ 9,61,653\\n /yr',\n",
       " '₹ 11,00,000\\n /yr',\n",
       " '₹ 15,887\\n /mo',\n",
       " '₹ 6,75,000\\n /yr',\n",
       " '₹ 15,00,000\\n /yr']"
      ]
     },
     "execution_count": 28,
     "metadata": {},
     "output_type": "execute_result"
    }
   ],
   "source": [
    "Avg_Salary=[]\n",
    "for i in AVG_salary:\n",
    "    Avg_Salary.append(i.text)\n",
    "Avg_Salary"
   ]
  },
  {
   "cell_type": "code",
   "execution_count": 33,
   "metadata": {},
   "outputs": [
    {
     "data": {
      "text/plain": [
       "['₹ 6,14,306 /yr',\n",
       " '₹ 9,00,000 /yr',\n",
       " '₹ 11,46,533 /yr',\n",
       " '₹ 7,38,057 /yr',\n",
       " '₹ 12,39,781 /yr',\n",
       " '₹ 13,36,142 /yr',\n",
       " '₹ 8,15,192 /yr',\n",
       " '₹ 11,35,221 /yr',\n",
       " '₹ 11,44,243 /yr',\n",
       " '₹ 14,13,288 /yr',\n",
       " '₹ 12,07,110 /yr',\n",
       " '₹ 10,07,410 /yr',\n",
       " '₹ 13,18,851 /yr',\n",
       " '₹ 10,52,718 /yr',\n",
       " '₹ 14,13,078 /yr',\n",
       " '₹ 9,61,653 /yr',\n",
       " '₹ 11,00,000 /yr',\n",
       " '₹ 15,887 /mo',\n",
       " '₹ 6,75,000 /yr',\n",
       " '₹ 15,00,000 /yr']"
      ]
     },
     "execution_count": 33,
     "metadata": {},
     "output_type": "execute_result"
    }
   ],
   "source": [
    "Average_Salary=[]\n",
    "for i in AVG_salary:\n",
    "    Average_Salary.append(i.text.replace('\\n',''))\n",
    "Average_Salary"
   ]
  },
  {
   "cell_type": "code",
   "execution_count": 34,
   "metadata": {},
   "outputs": [
    {
     "data": {
      "text/plain": [
       "[<selenium.webdriver.remote.webelement.WebElement (session=\"7f0e03c1e9ecc871c3b519c3f3ad35df\", element=\"110681ab-567c-4a38-a4b1-a9dbfe7a41ab\")>,\n",
       " <selenium.webdriver.remote.webelement.WebElement (session=\"7f0e03c1e9ecc871c3b519c3f3ad35df\", element=\"ff27a3d5-b376-42dc-8049-0a160d52aad7\")>,\n",
       " <selenium.webdriver.remote.webelement.WebElement (session=\"7f0e03c1e9ecc871c3b519c3f3ad35df\", element=\"5319a58d-ab04-4114-9fba-15775fa85d10\")>,\n",
       " <selenium.webdriver.remote.webelement.WebElement (session=\"7f0e03c1e9ecc871c3b519c3f3ad35df\", element=\"2055aeee-94dd-4310-aaf2-a5e2a545e304\")>,\n",
       " <selenium.webdriver.remote.webelement.WebElement (session=\"7f0e03c1e9ecc871c3b519c3f3ad35df\", element=\"cee4265b-7d5b-42e6-b33d-2261bcce284d\")>,\n",
       " <selenium.webdriver.remote.webelement.WebElement (session=\"7f0e03c1e9ecc871c3b519c3f3ad35df\", element=\"b12e1547-8499-4693-860b-b1263d8da766\")>,\n",
       " <selenium.webdriver.remote.webelement.WebElement (session=\"7f0e03c1e9ecc871c3b519c3f3ad35df\", element=\"0c32078f-ad1f-418c-89bb-a2d304fe94c0\")>,\n",
       " <selenium.webdriver.remote.webelement.WebElement (session=\"7f0e03c1e9ecc871c3b519c3f3ad35df\", element=\"fd53a110-a2a3-46ab-9a5d-ac7981b9ef92\")>,\n",
       " <selenium.webdriver.remote.webelement.WebElement (session=\"7f0e03c1e9ecc871c3b519c3f3ad35df\", element=\"75fa3a54-ab78-415a-9128-a62b243ae0e9\")>,\n",
       " <selenium.webdriver.remote.webelement.WebElement (session=\"7f0e03c1e9ecc871c3b519c3f3ad35df\", element=\"1022fd7a-321f-457b-869d-5069e1e1e5d1\")>,\n",
       " <selenium.webdriver.remote.webelement.WebElement (session=\"7f0e03c1e9ecc871c3b519c3f3ad35df\", element=\"222e3562-3415-4b46-b63a-da03f64ca273\")>,\n",
       " <selenium.webdriver.remote.webelement.WebElement (session=\"7f0e03c1e9ecc871c3b519c3f3ad35df\", element=\"b4a6c33a-2c59-429c-ab65-928c28686226\")>,\n",
       " <selenium.webdriver.remote.webelement.WebElement (session=\"7f0e03c1e9ecc871c3b519c3f3ad35df\", element=\"a3150318-1cd1-4514-bc2e-83b51b643e05\")>,\n",
       " <selenium.webdriver.remote.webelement.WebElement (session=\"7f0e03c1e9ecc871c3b519c3f3ad35df\", element=\"cf78de35-5561-4596-9e1c-a38fdae3cf82\")>,\n",
       " <selenium.webdriver.remote.webelement.WebElement (session=\"7f0e03c1e9ecc871c3b519c3f3ad35df\", element=\"c1e7306a-6e4e-4d79-b0c3-6e5fd326d82f\")>,\n",
       " <selenium.webdriver.remote.webelement.WebElement (session=\"7f0e03c1e9ecc871c3b519c3f3ad35df\", element=\"840ffe8b-96db-48d1-95ff-19e76594e159\")>,\n",
       " <selenium.webdriver.remote.webelement.WebElement (session=\"7f0e03c1e9ecc871c3b519c3f3ad35df\", element=\"2124a9f5-ef50-4bd9-84ee-386e60d5c615\")>,\n",
       " <selenium.webdriver.remote.webelement.WebElement (session=\"7f0e03c1e9ecc871c3b519c3f3ad35df\", element=\"1088a6f3-86dc-417e-99f0-1b4577c4a9b3\")>,\n",
       " <selenium.webdriver.remote.webelement.WebElement (session=\"7f0e03c1e9ecc871c3b519c3f3ad35df\", element=\"d655c5f4-4be7-4f23-95c3-1ae091d6cf45\")>,\n",
       " <selenium.webdriver.remote.webelement.WebElement (session=\"7f0e03c1e9ecc871c3b519c3f3ad35df\", element=\"ab5c5ae8-5b97-435b-9017-6584ea9228b2\")>]"
      ]
     },
     "execution_count": 34,
     "metadata": {},
     "output_type": "execute_result"
    }
   ],
   "source": [
    "Min_Max_salary=driver.find_elements_by_xpath(\"//span[@class='d-block d-lg-none m-0 css-1b6bxoo']\")\n",
    "Min_Max_salary"
   ]
  },
  {
   "cell_type": "code",
   "execution_count": 35,
   "metadata": {},
   "outputs": [
    {
     "data": {
      "text/plain": [
       "['Range: ₹343K - ₹1,250K',\n",
       " 'Range: ₹586K - ₹2,730K',\n",
       " 'Range: ₹577K - ₹2,213K',\n",
       " 'Range: ₹355K - ₹1,613K',\n",
       " 'Range: ₹450K - ₹11,622K',\n",
       " 'Range: ₹1,069K - ₹1,520K',\n",
       " 'Range: ₹502K - ₹1,465K',\n",
       " 'Range: ₹202K - ₹1,809K',\n",
       " 'Range: ₹575K - ₹1,520K',\n",
       " 'Range: ₹1,014K - ₹2,149K',\n",
       " 'Range: ₹620K - ₹1,695K',\n",
       " 'Range: ₹792K - ₹1,263K',\n",
       " 'Range: ₹807K - ₹1,986K',\n",
       " 'Range: ₹405K - ₹1,703K',\n",
       " 'Range: ₹971K - ₹1,883K',\n",
       " 'Range: ₹400K - ₹1,124K',\n",
       " 'Range: ₹817K - ₹2,006K',\n",
       " 'Range: ₹12K - ₹63K',\n",
       " 'Range: ₹86K - ₹1,358K',\n",
       " 'Range: ₹772K - ₹2,091K']"
      ]
     },
     "execution_count": 35,
     "metadata": {},
     "output_type": "execute_result"
    }
   ],
   "source": [
    "Min_Max=[]\n",
    "for i in Min_Max_salary:\n",
    "    Min_Max.append(i.text)\n",
    "Min_Max"
   ]
  },
  {
   "cell_type": "code",
   "execution_count": 37,
   "metadata": {},
   "outputs": [
    {
     "data": {
      "text/plain": [
       "[' ₹343K - ₹1,250K',\n",
       " ' ₹586K - ₹2,730K',\n",
       " ' ₹577K - ₹2,213K',\n",
       " ' ₹355K - ₹1,613K',\n",
       " ' ₹450K - ₹11,622K',\n",
       " ' ₹1,069K - ₹1,520K',\n",
       " ' ₹502K - ₹1,465K',\n",
       " ' ₹202K - ₹1,809K',\n",
       " ' ₹575K - ₹1,520K',\n",
       " ' ₹1,014K - ₹2,149K',\n",
       " ' ₹620K - ₹1,695K',\n",
       " ' ₹792K - ₹1,263K',\n",
       " ' ₹807K - ₹1,986K',\n",
       " ' ₹405K - ₹1,703K',\n",
       " ' ₹971K - ₹1,883K',\n",
       " ' ₹400K - ₹1,124K',\n",
       " ' ₹817K - ₹2,006K',\n",
       " ' ₹12K - ₹63K',\n",
       " ' ₹86K - ₹1,358K',\n",
       " ' ₹772K - ₹2,091K']"
      ]
     },
     "execution_count": 37,
     "metadata": {},
     "output_type": "execute_result"
    }
   ],
   "source": [
    "Min_Max_Salary=[]\n",
    "for i in Min_Max_salary:\n",
    "    Min_Max_Salary.append(i.text.replace('Range:',''))\n",
    "Min_Max_Salary"
   ]
  },
  {
   "cell_type": "code",
   "execution_count": 39,
   "metadata": {},
   "outputs": [
    {
     "data": {
      "text/html": [
       "<div>\n",
       "<style scoped>\n",
       "    .dataframe tbody tr th:only-of-type {\n",
       "        vertical-align: middle;\n",
       "    }\n",
       "\n",
       "    .dataframe tbody tr th {\n",
       "        vertical-align: top;\n",
       "    }\n",
       "\n",
       "    .dataframe thead th {\n",
       "        text-align: right;\n",
       "    }\n",
       "</style>\n",
       "<table border=\"1\" class=\"dataframe\">\n",
       "  <thead>\n",
       "    <tr style=\"text-align: right;\">\n",
       "      <th></th>\n",
       "      <th>Name of the Company</th>\n",
       "      <th>Number of Salaries</th>\n",
       "      <th>Average_Salary</th>\n",
       "      <th>Range of the Salaries</th>\n",
       "    </tr>\n",
       "  </thead>\n",
       "  <tbody>\n",
       "    <tr>\n",
       "      <th>0</th>\n",
       "      <td>Tata Consultancy Services</td>\n",
       "      <td>17 salaries</td>\n",
       "      <td>₹ 6,14,306 /yr</td>\n",
       "      <td>₹343K - ₹1,250K</td>\n",
       "    </tr>\n",
       "    <tr>\n",
       "      <th>1</th>\n",
       "      <td>IBM</td>\n",
       "      <td>15 salaries</td>\n",
       "      <td>₹ 9,00,000 /yr</td>\n",
       "      <td>₹586K - ₹2,730K</td>\n",
       "    </tr>\n",
       "    <tr>\n",
       "      <th>2</th>\n",
       "      <td>Accenture</td>\n",
       "      <td>14 salaries</td>\n",
       "      <td>₹ 11,46,533 /yr</td>\n",
       "      <td>₹577K - ₹2,213K</td>\n",
       "    </tr>\n",
       "    <tr>\n",
       "      <th>3</th>\n",
       "      <td>Ericsson-Worldwide</td>\n",
       "      <td>14 salaries</td>\n",
       "      <td>₹ 7,38,057 /yr</td>\n",
       "      <td>₹355K - ₹1,613K</td>\n",
       "    </tr>\n",
       "    <tr>\n",
       "      <th>4</th>\n",
       "      <td>Delhivery</td>\n",
       "      <td>14 salaries</td>\n",
       "      <td>₹ 12,39,781 /yr</td>\n",
       "      <td>₹450K - ₹11,622K</td>\n",
       "    </tr>\n",
       "    <tr>\n",
       "      <th>5</th>\n",
       "      <td>UnitedHealth Group</td>\n",
       "      <td>11 salaries</td>\n",
       "      <td>₹ 13,36,142 /yr</td>\n",
       "      <td>₹1,069K - ₹1,520K</td>\n",
       "    </tr>\n",
       "    <tr>\n",
       "      <th>6</th>\n",
       "      <td>Valiance Solutions</td>\n",
       "      <td>9 salaries</td>\n",
       "      <td>₹ 8,15,192 /yr</td>\n",
       "      <td>₹502K - ₹1,465K</td>\n",
       "    </tr>\n",
       "    <tr>\n",
       "      <th>7</th>\n",
       "      <td>ZS Associates</td>\n",
       "      <td>8 salaries</td>\n",
       "      <td>₹ 11,35,221 /yr</td>\n",
       "      <td>₹202K - ₹1,809K</td>\n",
       "    </tr>\n",
       "    <tr>\n",
       "      <th>8</th>\n",
       "      <td>EXL Service</td>\n",
       "      <td>8 salaries</td>\n",
       "      <td>₹ 11,44,243 /yr</td>\n",
       "      <td>₹575K - ₹1,520K</td>\n",
       "    </tr>\n",
       "    <tr>\n",
       "      <th>9</th>\n",
       "      <td>Optum Global Solutions</td>\n",
       "      <td>8 salaries</td>\n",
       "      <td>₹ 14,13,288 /yr</td>\n",
       "      <td>₹1,014K - ₹2,149K</td>\n",
       "    </tr>\n",
       "  </tbody>\n",
       "</table>\n",
       "</div>"
      ],
      "text/plain": [
       "         Name of the Company Number of Salaries   Average_Salary  \\\n",
       "0  Tata Consultancy Services        17 salaries   ₹ 6,14,306 /yr   \n",
       "1                        IBM        15 salaries   ₹ 9,00,000 /yr   \n",
       "2                  Accenture        14 salaries  ₹ 11,46,533 /yr   \n",
       "3         Ericsson-Worldwide        14 salaries   ₹ 7,38,057 /yr   \n",
       "4                  Delhivery        14 salaries  ₹ 12,39,781 /yr   \n",
       "5         UnitedHealth Group        11 salaries  ₹ 13,36,142 /yr   \n",
       "6         Valiance Solutions         9 salaries   ₹ 8,15,192 /yr   \n",
       "7              ZS Associates         8 salaries  ₹ 11,35,221 /yr   \n",
       "8                EXL Service         8 salaries  ₹ 11,44,243 /yr   \n",
       "9     Optum Global Solutions         8 salaries  ₹ 14,13,288 /yr   \n",
       "\n",
       "  Range of the Salaries  \n",
       "0       ₹343K - ₹1,250K  \n",
       "1       ₹586K - ₹2,730K  \n",
       "2       ₹577K - ₹2,213K  \n",
       "3       ₹355K - ₹1,613K  \n",
       "4      ₹450K - ₹11,622K  \n",
       "5     ₹1,069K - ₹1,520K  \n",
       "6       ₹502K - ₹1,465K  \n",
       "7       ₹202K - ₹1,809K  \n",
       "8       ₹575K - ₹1,520K  \n",
       "9     ₹1,014K - ₹2,149K  "
      ]
     },
     "execution_count": 39,
     "metadata": {},
     "output_type": "execute_result"
    }
   ],
   "source": [
    "Data=pd.DataFrame({})\n",
    "Data[\"Name of the Company\"]=Company_titles[:10]\n",
    "Data[\"Number of Salaries\"]=Number_Salary[:10]\n",
    "Data[\"Average_Salary\"]=Average_Salary[:10]\n",
    "Data[\"Range of the Salaries\"]=Min_Max_Salary[:10]\n",
    "Data"
   ]
  },
  {
   "cell_type": "code",
   "execution_count": null,
   "metadata": {},
   "outputs": [],
   "source": []
  }
 ],
 "metadata": {
  "kernelspec": {
   "display_name": "Python 3",
   "language": "python",
   "name": "python3"
  },
  "language_info": {
   "codemirror_mode": {
    "name": "ipython",
    "version": 3
   },
   "file_extension": ".py",
   "mimetype": "text/x-python",
   "name": "python",
   "nbconvert_exporter": "python",
   "pygments_lexer": "ipython3",
   "version": "3.8.3"
  }
 },
 "nbformat": 4,
 "nbformat_minor": 4
}
